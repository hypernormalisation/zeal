{
 "cells": [
  {
   "cell_type": "code",
   "execution_count": 1,
   "id": "bb38cd77",
   "metadata": {},
   "outputs": [],
   "source": [
    "def get_soc_no_wf(p_dodge, p_soc):\n",
    "    return (1-p_dodge)**2 * p_soc"
   ]
  },
  {
   "cell_type": "code",
   "execution_count": 2,
   "id": "7704143a",
   "metadata": {},
   "outputs": [
    {
     "data": {
      "text/plain": [
       "0.395178"
      ]
     },
     "execution_count": 2,
     "metadata": {},
     "output_type": "execute_result"
    }
   ],
   "source": [
    "get_soc_no_wf(0.03, 0.42)"
   ]
  },
  {
   "cell_type": "code",
   "execution_count": 7,
   "id": "ceed0687",
   "metadata": {},
   "outputs": [],
   "source": [
    "def get_soc_with_wf(p_dodge, ws):\n",
    "#     print(p_soc)\n",
    "    p_soc = ws*7/60\n",
    "    res = (1-p_dodge)**2 * (1 + 0.2 * (1 - p_dodge) * (1 - p_soc)) * p_soc\n",
    "    print('-'*50)\n",
    "    print(f'For weapon speed = {ws}:')\n",
    "    print(f'Chance to proc without wf : {p_soc}')\n",
    "    print(f'Chance to proc with wf    : {res}')\n",
    "    print(f'Increase with windfury    : {res - p_soc}')\n",
    "    return res"
   ]
  },
  {
   "cell_type": "code",
   "execution_count": null,
   "id": "f8ef956a",
   "metadata": {},
   "outputs": [],
   "source": [
    "class Player:\n",
    "    def __init__(self, weapon_label, expertise, ap, crit_chance):\n",
    "        self.weapon = weapon_label"
   ]
  },
  {
   "cell_type": "code",
   "execution_count": null,
   "id": "737440c7",
   "metadata": {},
   "outputs": [],
   "source": [
    "def get_twist_damage_no_wf(p_dodge, ws):\n",
    "    res = \n",
    "    "
   ]
  },
  {
   "cell_type": "code",
   "execution_count": 8,
   "id": "5a8be53b",
   "metadata": {},
   "outputs": [
    {
     "name": "stdout",
     "output_type": "stream",
     "text": [
      "--------------------------------------------------\n",
      "For weapon speed = 3.5:\n",
      "Chance to proc without wf : 0.4083333333333333\n",
      "Chance to proc with wf    : 0.4566527777777778\n",
      "Increase with windfury    : 0.04831944444444447\n"
     ]
    },
    {
     "data": {
      "text/plain": [
       "0.4566527777777778"
      ]
     },
     "execution_count": 8,
     "metadata": {},
     "output_type": "execute_result"
    },
    {
     "name": "stdout",
     "output_type": "stream",
     "text": [
      "--------------------------------------------------\n",
      "For weapon speed = 3.6:\n",
      "Chance to proc without wf : 0.42\n",
      "Chance to proc with wf    : 0.46872\n",
      "Increase with windfury    : 0.04872000000000004\n"
     ]
    },
    {
     "data": {
      "text/plain": [
       "0.46872"
      ]
     },
     "execution_count": 8,
     "metadata": {},
     "output_type": "execute_result"
    },
    {
     "name": "stdout",
     "output_type": "stream",
     "text": [
      "--------------------------------------------------\n",
      "For weapon speed = 3.7:\n",
      "Chance to proc without wf : 0.4316666666666667\n",
      "Chance to proc with wf    : 0.4807327777777778\n",
      "Increase with windfury    : 0.04906611111111109\n"
     ]
    },
    {
     "data": {
      "text/plain": [
       "0.4807327777777778"
      ]
     },
     "execution_count": 8,
     "metadata": {},
     "output_type": "execute_result"
    },
    {
     "name": "stdout",
     "output_type": "stream",
     "text": [
      "--------------------------------------------------\n",
      "For weapon speed = 3.8:\n",
      "Chance to proc without wf : 0.4433333333333333\n",
      "Chance to proc with wf    : 0.4926911111111111\n",
      "Increase with windfury    : 0.04935777777777778\n"
     ]
    },
    {
     "data": {
      "text/plain": [
       "0.4926911111111111"
      ]
     },
     "execution_count": 8,
     "metadata": {},
     "output_type": "execute_result"
    }
   ],
   "source": [
    "get_soc_with_wf(0.0, 3.5)\n",
    "get_soc_with_wf(0.0, 3.6)\n",
    "get_soc_with_wf(0.0, 3.7)\n",
    "get_soc_with_wf(0.0, 3.8)"
   ]
  },
  {
   "cell_type": "code",
   "execution_count": 9,
   "id": "1ec94319",
   "metadata": {},
   "outputs": [],
   "source": [
    "def get_soc_wf_ratio(p_dodge, p_soc):\n",
    "    print(f'For dodge chance = {p_dodge} and SoC proc chance of {p_soc}:')\n",
    "    p_soc_base = get_soc_no_wf(p_dodge, p_soc)\n",
    "    p_soc_wf = get_soc_with_wf(p_dodge, p_soc)\n",
    "    print(f'prob without wf : {p_soc_base}')\n",
    "    print(f'prob with wf    : {p_soc_wf}')\n",
    "    ratio = p_soc_wf / p_soc_base\n",
    "    print(f'ratio           : {ratio}')\n",
    "    return(p_soc_base, p_soc_wf, ratio)"
   ]
  },
  {
   "cell_type": "code",
   "execution_count": 11,
   "id": "1beed51c",
   "metadata": {},
   "outputs": [
    {
     "name": "stdout",
     "output_type": "stream",
     "text": [
      "For dodge chance = 0.02 and SoC proc chance of 3.8:\n",
      "--------------------------------------------------\n",
      "For weapon speed = 3.8:\n",
      "Chance to proc without wf : 0.4433333333333333\n",
      "Chance to proc with wf    : 0.4722324789155555\n",
      "Increase with windfury    : 0.028899145582222174\n",
      "prob without wf : 3.6495199999999994\n",
      "prob with wf    : 0.4722324789155555\n",
      "ratio           : 0.12939577777777778\n"
     ]
    },
    {
     "data": {
      "text/plain": [
       "(3.6495199999999994, 0.4722324789155555, 0.12939577777777778)"
      ]
     },
     "execution_count": 11,
     "metadata": {},
     "output_type": "execute_result"
    }
   ],
   "source": [
    "get_soc_wf_ratio(0.02, 3.8)"
   ]
  },
  {
   "cell_type": "code",
   "execution_count": null,
   "id": "78635c47",
   "metadata": {},
   "outputs": [],
   "source": [
    "get_soc_wf_ratio(0.065, 0.42)"
   ]
  },
  {
   "cell_type": "code",
   "execution_count": null,
   "id": "850070de",
   "metadata": {},
   "outputs": [],
   "source": [
    "get_soc_wf_ratio(0, 0.42)"
   ]
  },
  {
   "cell_type": "code",
   "execution_count": null,
   "id": "45766c8b",
   "metadata": {},
   "outputs": [],
   "source": [
    "proc_torch = 7*3.8/60\n",
    "proc_torch\n",
    "\n",
    "proc_cata = 7*3.5/60\n",
    "get_soc_wf_ratio(0, proc_cata)"
   ]
  },
  {
   "cell_type": "code",
   "execution_count": null,
   "id": "6127f2c6",
   "metadata": {},
   "outputs": [],
   "source": [
    "get_soc_wf_ratio(0, proc_torch)"
   ]
  },
  {
   "cell_type": "code",
   "execution_count": null,
   "id": "a5359451",
   "metadata": {},
   "outputs": [],
   "source": [
    "0.4926911111 * 0.7"
   ]
  },
  {
   "cell_type": "code",
   "execution_count": null,
   "id": "dbd756e9",
   "metadata": {},
   "outputs": [],
   "source": [
    "0.42 / 0.34488377777"
   ]
  },
  {
   "cell_type": "code",
   "execution_count": null,
   "id": "b742fd4c",
   "metadata": {},
   "outputs": [],
   "source": [
    "1.2178015524989243 / 1.28"
   ]
  },
  {
   "cell_type": "code",
   "execution_count": null,
   "id": "427a25a6",
   "metadata": {},
   "outputs": [],
   "source": [
    "get_soc_wf_ratio(0, 0.8)"
   ]
  },
  {
   "cell_type": "code",
   "execution_count": null,
   "id": "f8fc4ac1",
   "metadata": {},
   "outputs": [],
   "source": [
    "get_soc_wf_ratio(0, 0.2)"
   ]
  },
  {
   "cell_type": "code",
   "execution_count": null,
   "id": "1453654f",
   "metadata": {},
   "outputs": [],
   "source": [
    "%config InlineBackend.print_figure_kwargs={'facecolor' : \"w\"}\n",
    "\n",
    "import numpy as np\n",
    "import matplotlib\n",
    "import matplotlib.pyplot as plt\n",
    "from matplotlib.figure import Figure\n",
    "from matplotlib.backends.backend_agg import FigureCanvasAgg as FigureCanvas\n",
    "\n",
    "def generate_graph(p_dodge, divisions):  \n",
    "    speeds = np.linspace(0.01, 8.57, num=divisions)\n",
    "    speeds\n",
    "    results = []\n",
    "    for speed in speeds:\n",
    "        proc_soc = 7*speed/60\n",
    "        r = get_soc_wf_ratio(p_dodge, proc_soc)\n",
    "        results.append(r)\n",
    "    ratios = [r[2] for r in results]\n",
    "    procs = [r[1] for r in results]\n",
    "    print(ratios)\n",
    "    \n",
    "\n",
    "    figure = Figure()\n",
    "    canvas = FigureCanvas(figure)\n",
    "    fig = plt.figure(figsize = (8, 5))\n",
    "    # Create the plot\n",
    "    plt.plot(speeds, ratios)\n",
    "    plt.title(f'Benefit to SoC proc chance with WF, dodge chance = {p_dodge}')\n",
    "    plt.ylabel('Relative benefit to proc chance')\n",
    "    plt.xlabel('Weapon Speed')\n",
    "    \n",
    "    figure = Figure()\n",
    "    canvas = FigureCanvas(figure)\n",
    "    fig = plt.figure(figsize = (8, 5))\n",
    "    # Create the plot\n",
    "    plt.plot(speeds, procs)\n",
    "    plt.grid()\n",
    "    plt.title(f'SoC proc chance with WF, dodge chance = {p_dodge}')\n",
    "    plt.ylabel('SoC proc chance')\n",
    "    plt.xlabel('Weapon Speed')\n",
    "    \n",
    "generate_graph(0.01, 100)"
   ]
  },
  {
   "cell_type": "code",
   "execution_count": null,
   "id": "d9e07b21",
   "metadata": {},
   "outputs": [],
   "source": []
  },
  {
   "cell_type": "code",
   "execution_count": null,
   "id": "fde91ad4",
   "metadata": {},
   "outputs": [],
   "source": [
    "jotc_sp = 219\n",
    "soc_spc = 0.2\n",
    "\n",
    "f_holy = 1.1 * 0.94\n",
    "\n",
    "p_glance = 0.24\n",
    "f_glance = 0.75\n",
    "f_crit = 2.06\n",
    "\n",
    "p_wf = 0.2\n",
    "\n",
    "weapon_dict = {\n",
    "    'LHE': {'speed': 3.6, 'lower': 365.0, 'upper': 549.0},\n",
    "    'torch': {'speed': 3.8, 'lower': 396, 'upper': 595}\n",
    "}\n",
    "\n",
    "def get_d(ap, weapon_label):\n",
    "    if weapon_label not in weapon_dict:\n",
    "        print(f'ERROR: label {weapon_label} not valid!')\n",
    "    w_d = weapon_dict[weapon_label]\n",
    "    median = (w_d['upper'] + w_d['lower']) / 2.\n",
    "    return (median + ( ap * w_d['speed'] ) / 14) * 1.06 * 1.03 * 1.02\n",
    "\n",
    "def get_phys_damage_outcomes_factor(p_crit, p_dodge):\n",
    "    return ( (p_glance * f_glance) + (p_crit * f_crit ) + (1 - p_glance - p_crit - p_dodge) ) / (1 - p_dodge)\n",
    "\n",
    "def get_special_damage_outcomes_factor(p_crit):\n",
    "    return (p_crit * f_crit + (1 - p_crit))\n",
    "\n",
    "def get_f_phys(target_armor, arm_pen=0):\n",
    "    return 1 - ( ((target_armor - arm_pen + 1) ) / (467.5*73 - 22167.5) )\n",
    "\n",
    "def get_f_wf(ap, bonus_ap=511.75, weapon_label='LHE'):\n",
    "    if weapon_label not in weapon_dict:\n",
    "        print(f'ERROR: label {weapon_label} not valid!')\n",
    "    w_d = weapon_dict[weapon_label]\n",
    "    d_weapon_ave = (w_d['upper'] + w_d['lower']) / 2.\n",
    "#     print(d_weapon_ave)\n",
    "    ws = w_d['speed']\n",
    "    return (d_weapon_ave + (ws*(ap+bonus_ap ) / 14) ) / ( (d_weapon_ave + (ws*ap) / 14) )\n",
    "\n",
    "def get_soc_dmg(p_dodge, p_crit=0.35, weapon_label='LHE', ap=3000,\n",
    "                target_armor=1800, arm_pen=0, bonus_wf_ap=511.75):\n",
    "    \n",
    "    # Weapon stats\n",
    "    if weapon_label not in weapon_dict:\n",
    "        print(f'ERROR: label {weapon_label} not valid!')\n",
    "    w_d = weapon_dict[weapon_label]\n",
    "    \n",
    "    # First get the phys D.\n",
    "    d_ave_phys = get_d(ap, weapon_label) * get_f_phys(target_armor, arm_pen)\n",
    "#     print(f'weapon damage phys = {d_ave_phys}') \n",
    "    phys_damage_outcomes_factor = get_phys_damage_outcomes_factor(p_crit, p_dodge)\n",
    "#     print(f'damage outcomes f = {phys_damage_outcomes_factor}')\n",
    "    d_ave_melee = d_ave_phys * phys_damage_outcomes_factor\n",
    "#     print(d_ave_melee)\n",
    "    \n",
    "    # Next get the holy D on a SoC proc.\n",
    "    d_ave_holy = f_holy * ( (d_ave_phys + (jotc_sp * soc_spc) ) )\n",
    "    d_ave_soc_proc = get_special_damage_outcomes_factor(p_crit) * 0.7 * d_ave_holy\n",
    "#     print(d_ave_soc_proc)\n",
    "    \n",
    "    # Get the SoC proc chance.\n",
    "    p_soc = 7*w_d['speed']/60\n",
    "    \n",
    "    # Get the windfury attack modifier at this ap\n",
    "    f_wf = get_f_wf(ap, bonus_ap=bonus_wf_ap)\n",
    "    \n",
    "    # Now project how many of these we get in a SoC swing under windfury\n",
    "    average_d = (1-p_dodge) * d_ave_melee + (1 - p_dodge)**2 * p_wf * f_wf * d_ave_melee + \\\n",
    "                (1 - p_dodge)**2 * p_soc * d_ave_soc_proc + \\\n",
    "                (1 - p_dodge)**3 * p_wf * p_soc * d_ave_soc_proc\n",
    "                \n",
    "    \n",
    "#     print(average_d)\n",
    "    return(average_d)\n",
    "    \n",
    "get_soc_dmg(0.01)\n",
    "get_soc_dmg(0.065)"
   ]
  },
  {
   "cell_type": "code",
   "execution_count": null,
   "id": "4391f099",
   "metadata": {},
   "outputs": [],
   "source": [
    "global_scale_factor = 1.02 * 1.06 * 1.03\n",
    "global_scale_factor"
   ]
  },
  {
   "cell_type": "code",
   "execution_count": null,
   "id": "5cf37a98",
   "metadata": {},
   "outputs": [],
   "source": [
    "dodge_chances = np.linspace(0.00, 0.065, num=27)\n",
    "dodge_chances\n",
    "\n",
    "expertises = np.linspace(0, 26, num=27)\n",
    "expertises"
   ]
  },
  {
   "cell_type": "code",
   "execution_count": null,
   "id": "676c2843",
   "metadata": {},
   "outputs": [],
   "source": [
    "results_LHE = []\n",
    "for p_dodge in dodge_chances:\n",
    "    results_LHE.append(get_soc_dmg(p_dodge) * global_scale_factor)\n",
    "print(results_LHE)\n",
    "\n",
    "figure = Figure()\n",
    "canvas = FigureCanvas(figure)\n",
    "fig = plt.figure(figsize = (8, 5))\n",
    "# Create the plot\n",
    "plt.plot(dodge_chances, results_LHE)\n",
    "plt.grid()\n",
    "plt.title(f'Projected SoC swing damage with windfury, LHE')\n",
    "plt.ylabel('Damage')\n",
    "plt.xlabel('Dodge Chance')"
   ]
  },
  {
   "cell_type": "code",
   "execution_count": null,
   "id": "f15cd048",
   "metadata": {},
   "outputs": [],
   "source": [
    "results_torch = []\n",
    "for p_dodge in dodge_chances:\n",
    "    results_torch.append(get_soc_dmg(p_dodge, weapon_label='torch') * global_scale_factor)\n",
    "print(results_torch)\n",
    "\n",
    "results_torch.reverse()\n",
    "figure = Figure()\n",
    "canvas = FigureCanvas(figure)\n",
    "fig = plt.figure(figsize = (8, 5))\n",
    "# Create the plot\n",
    "plt.plot(expertises, results_torch)\n",
    "plt.grid()\n",
    "plt.title(f'Projected SoC swing damage with windfury, Torch')\n",
    "plt.ylabel('Damage')\n",
    "plt.xlabel('Expertise')"
   ]
  },
  {
   "cell_type": "code",
   "execution_count": null,
   "id": "c0917b00",
   "metadata": {},
   "outputs": [],
   "source": [
    "d1 = get_soc_dmg(0.0, weapon_label='torch')\n",
    "d2 = get_soc_dmg(0.065, weapon_label='torch')\n",
    "\n",
    "d1/d2"
   ]
  },
  {
   "cell_type": "code",
   "execution_count": null,
   "id": "ae4faf76",
   "metadata": {},
   "outputs": [],
   "source": []
  }
 ],
 "metadata": {
  "kernelspec": {
   "display_name": "retational",
   "language": "python",
   "name": "retational"
  },
  "language_info": {
   "codemirror_mode": {
    "name": "ipython",
    "version": 3
   },
   "file_extension": ".py",
   "mimetype": "text/x-python",
   "name": "python",
   "nbconvert_exporter": "python",
   "pygments_lexer": "ipython3",
   "version": "3.9.7"
  }
 },
 "nbformat": 4,
 "nbformat_minor": 5
}
