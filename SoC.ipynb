{
 "cells": [
  {
   "cell_type": "code",
   "execution_count": 4,
   "id": "47e7234e",
   "metadata": {},
   "outputs": [],
   "source": [
    "def get_soc_no_wf(p_dodge, p_soc):\n",
    "    return (1-p_dodge)**2 * p_soc"
   ]
  },
  {
   "cell_type": "code",
   "execution_count": 7,
   "id": "8e65bada",
   "metadata": {},
   "outputs": [
    {
     "data": {
      "text/plain": [
       "0.395178"
      ]
     },
     "execution_count": 7,
     "metadata": {},
     "output_type": "execute_result"
    }
   ],
   "source": [
    "get_soc_no_wf(0.03, 0.42)"
   ]
  },
  {
   "cell_type": "code",
   "execution_count": 13,
   "id": "e157b24e",
   "metadata": {},
   "outputs": [],
   "source": [
    "def get_soc_with_wf(p_dodge, p_soc):\n",
    "    return (1-p_dodge)**2 * (1 + 0.2 * (1 - p_dodge) * (1 - p_soc)) * p_soc"
   ]
  },
  {
   "cell_type": "code",
   "execution_count": 14,
   "id": "09684587",
   "metadata": {},
   "outputs": [
    {
     "data": {
      "text/plain": [
       "0.46872"
      ]
     },
     "execution_count": 14,
     "metadata": {},
     "output_type": "execute_result"
    }
   ],
   "source": [
    "get_soc_with_wf(0.0, 0.42)"
   ]
  },
  {
   "cell_type": "code",
   "execution_count": 26,
   "id": "eec48469",
   "metadata": {},
   "outputs": [],
   "source": [
    "def get_soc_wf_ratio(p_dodge, p_soc):\n",
    "    print(f'For dodge chance = {p_dodge} and SoC proc chance of {p_soc}:')\n",
    "    p_soc_base = get_soc_no_wf(p_dodge, p_soc)\n",
    "    p_soc_wf = get_soc_with_wf(p_dodge, p_soc)\n",
    "    print(f'prob without wf : {p_soc_base}')\n",
    "    print(f'prob with wf    : {p_soc_wf}')\n",
    "    ratio = p_soc_wf / p_soc_base\n",
    "    print(f'ratio           : {ratio}')\n",
    "    return(p_soc_base, p_soc_wf, ratio)"
   ]
  },
  {
   "cell_type": "code",
   "execution_count": 27,
   "id": "294fcd2c",
   "metadata": {},
   "outputs": [
    {
     "name": "stdout",
     "output_type": "stream",
     "text": [
      "For dodge chance = 0 and SoC proc chance of 0.42:\n",
      "prob without wf : 0.42\n",
      "prob with wf    : 0.46872\n",
      "ratio           : 1.116\n"
     ]
    },
    {
     "data": {
      "text/plain": [
       "(0.42, 0.46872, 1.116)"
      ]
     },
     "execution_count": 27,
     "metadata": {},
     "output_type": "execute_result"
    }
   ],
   "source": [
    "get_soc_wf_ratio(0, 0.42)"
   ]
  },
  {
   "cell_type": "code",
   "execution_count": 28,
   "id": "66567c11",
   "metadata": {},
   "outputs": [
    {
     "name": "stdout",
     "output_type": "stream",
     "text": [
      "For dodge chance = 0.02 and SoC proc chance of 0.42:\n",
      "prob without wf : 0.40336799999999995\n",
      "prob with wf    : 0.44922287423999996\n",
      "ratio           : 1.11368\n"
     ]
    },
    {
     "data": {
      "text/plain": [
       "(0.40336799999999995, 0.44922287423999996, 1.11368)"
      ]
     },
     "execution_count": 28,
     "metadata": {},
     "output_type": "execute_result"
    }
   ],
   "source": [
    "get_soc_wf_ratio(0.02, 0.42)"
   ]
  },
  {
   "cell_type": "code",
   "execution_count": 29,
   "id": "f2dfa029",
   "metadata": {},
   "outputs": [
    {
     "name": "stdout",
     "output_type": "stream",
     "text": [
      "For dodge chance = 0.065 and SoC proc chance of 0.42:\n",
      "prob without wf : 0.36717450000000007\n",
      "prob with wf    : 0.40699824627000003\n",
      "ratio           : 1.1084599999999998\n"
     ]
    },
    {
     "data": {
      "text/plain": [
       "(0.36717450000000007, 0.40699824627000003, 1.1084599999999998)"
      ]
     },
     "execution_count": 29,
     "metadata": {},
     "output_type": "execute_result"
    }
   ],
   "source": [
    "get_soc_wf_ratio(0.065, 0.42)"
   ]
  },
  {
   "cell_type": "code",
   "execution_count": null,
   "id": "7f348b9c",
   "metadata": {},
   "outputs": [],
   "source": []
  }
 ],
 "metadata": {
  "kernelspec": {
   "display_name": "retational",
   "language": "python",
   "name": "retational"
  },
  "language_info": {
   "codemirror_mode": {
    "name": "ipython",
    "version": 3
   },
   "file_extension": ".py",
   "mimetype": "text/x-python",
   "name": "python",
   "nbconvert_exporter": "python",
   "pygments_lexer": "ipython3",
   "version": "3.9.7"
  }
 },
 "nbformat": 4,
 "nbformat_minor": 5
}
