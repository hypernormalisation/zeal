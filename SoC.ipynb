{
 "cells": [
  {
   "cell_type": "code",
   "execution_count": 1,
   "id": "bb38cd77",
   "metadata": {},
   "outputs": [],
   "source": [
    "def get_soc_no_wf(p_dodge, p_soc):\n",
    "    return (1-p_dodge)**2 * p_soc"
   ]
  },
  {
   "cell_type": "code",
   "execution_count": 2,
   "id": "7704143a",
   "metadata": {},
   "outputs": [
    {
     "data": {
      "text/plain": [
       "0.395178"
      ]
     },
     "execution_count": 2,
     "metadata": {},
     "output_type": "execute_result"
    }
   ],
   "source": [
    "get_soc_no_wf(0.03, 0.42)"
   ]
  },
  {
   "cell_type": "code",
   "execution_count": 41,
   "id": "ceed0687",
   "metadata": {},
   "outputs": [],
   "source": [
    "def get_soc_with_wf(p_dodge, ws):\n",
    "#     print(p_soc)\n",
    "    p_soc = ws*7/60\n",
    "    res = (1-p_dodge)**2 * (1 + 0.2 * (1 - p_dodge) * (1 - p_soc)) * p_soc\n",
    "    print('-'*50)\n",
    "    print(f'For weapon speed = {ws}:')\n",
    "    print(f'Chance to proc without wf : {p_soc}')\n",
    "    print(f'Chance to proc with wf    : {res}')\n",
    "    print(f'Increase with windfury    : {res - p_soc}')"
   ]
  },
  {
   "cell_type": "code",
   "execution_count": 42,
   "id": "5a8be53b",
   "metadata": {},
   "outputs": [
    {
     "name": "stdout",
     "output_type": "stream",
     "text": [
      "--------------------------------------------------\n",
      "For weapon speed = 3.5:\n",
      "Chance to proc without wf : 0.4083333333333333\n",
      "Chance to proc with wf    : 0.4566527777777778\n",
      "Increase with windfury    : 0.04831944444444447\n",
      "--------------------------------------------------\n",
      "For weapon speed = 3.6:\n",
      "Chance to proc without wf : 0.42\n",
      "Chance to proc with wf    : 0.46872\n",
      "Increase with windfury    : 0.04872000000000004\n",
      "--------------------------------------------------\n",
      "For weapon speed = 3.7:\n",
      "Chance to proc without wf : 0.4316666666666667\n",
      "Chance to proc with wf    : 0.4807327777777778\n",
      "Increase with windfury    : 0.04906611111111109\n",
      "--------------------------------------------------\n",
      "For weapon speed = 3.8:\n",
      "Chance to proc without wf : 0.4433333333333333\n",
      "Chance to proc with wf    : 0.4926911111111111\n",
      "Increase with windfury    : 0.04935777777777778\n"
     ]
    }
   ],
   "source": [
    "get_soc_with_wf(0.0, 3.5)\n",
    "get_soc_with_wf(0.0, 3.6)\n",
    "get_soc_with_wf(0.0, 3.7)\n",
    "get_soc_with_wf(0.0, 3.8)"
   ]
  },
  {
   "cell_type": "code",
   "execution_count": 5,
   "id": "1ec94319",
   "metadata": {},
   "outputs": [],
   "source": [
    "def get_soc_wf_ratio(p_dodge, p_soc):\n",
    "    print(f'For dodge chance = {p_dodge} and SoC proc chance of {p_soc}:')\n",
    "    p_soc_base = get_soc_no_wf(p_dodge, p_soc)\n",
    "    p_soc_wf = get_soc_with_wf(p_dodge, p_soc)\n",
    "    print(f'prob without wf : {p_soc_base}')\n",
    "    print(f'prob with wf    : {p_soc_wf}')\n",
    "    ratio = p_soc_wf / p_soc_base\n",
    "    print(f'ratio           : {ratio}')\n",
    "    return(p_soc_base, p_soc_wf, ratio)"
   ]
  },
  {
   "cell_type": "code",
   "execution_count": 6,
   "id": "bda7bd82",
   "metadata": {},
   "outputs": [
    {
     "name": "stdout",
     "output_type": "stream",
     "text": [
      "For dodge chance = 0 and SoC proc chance of 0.42:\n",
      "prob without wf : 0.42\n",
      "prob with wf    : 0.46872\n",
      "ratio           : 1.116\n"
     ]
    },
    {
     "data": {
      "text/plain": [
       "(0.42, 0.46872, 1.116)"
      ]
     },
     "execution_count": 6,
     "metadata": {},
     "output_type": "execute_result"
    }
   ],
   "source": [
    "get_soc_wf_ratio(0, 0.42)"
   ]
  },
  {
   "cell_type": "code",
   "execution_count": 7,
   "id": "1beed51c",
   "metadata": {},
   "outputs": [
    {
     "name": "stdout",
     "output_type": "stream",
     "text": [
      "For dodge chance = 0.02 and SoC proc chance of 0.42:\n",
      "prob without wf : 0.40336799999999995\n",
      "prob with wf    : 0.44922287423999996\n",
      "ratio           : 1.11368\n"
     ]
    },
    {
     "data": {
      "text/plain": [
       "(0.40336799999999995, 0.44922287423999996, 1.11368)"
      ]
     },
     "execution_count": 7,
     "metadata": {},
     "output_type": "execute_result"
    }
   ],
   "source": [
    "get_soc_wf_ratio(0.02, 0.42)"
   ]
  },
  {
   "cell_type": "code",
   "execution_count": 8,
   "id": "78635c47",
   "metadata": {},
   "outputs": [
    {
     "name": "stdout",
     "output_type": "stream",
     "text": [
      "For dodge chance = 0.065 and SoC proc chance of 0.42:\n",
      "prob without wf : 0.36717450000000007\n",
      "prob with wf    : 0.40699824627000003\n",
      "ratio           : 1.1084599999999998\n"
     ]
    },
    {
     "data": {
      "text/plain": [
       "(0.36717450000000007, 0.40699824627000003, 1.1084599999999998)"
      ]
     },
     "execution_count": 8,
     "metadata": {},
     "output_type": "execute_result"
    }
   ],
   "source": [
    "get_soc_wf_ratio(0.065, 0.42)"
   ]
  },
  {
   "cell_type": "code",
   "execution_count": 9,
   "id": "850070de",
   "metadata": {},
   "outputs": [
    {
     "name": "stdout",
     "output_type": "stream",
     "text": [
      "For dodge chance = 0 and SoC proc chance of 0.42:\n",
      "prob without wf : 0.42\n",
      "prob with wf    : 0.46872\n",
      "ratio           : 1.116\n"
     ]
    },
    {
     "data": {
      "text/plain": [
       "(0.42, 0.46872, 1.116)"
      ]
     },
     "execution_count": 9,
     "metadata": {},
     "output_type": "execute_result"
    }
   ],
   "source": [
    "get_soc_wf_ratio(0, 0.42)"
   ]
  },
  {
   "cell_type": "code",
   "execution_count": 10,
   "id": "45766c8b",
   "metadata": {},
   "outputs": [
    {
     "data": {
      "text/plain": [
       "0.4433333333333333"
      ]
     },
     "execution_count": 10,
     "metadata": {},
     "output_type": "execute_result"
    },
    {
     "name": "stdout",
     "output_type": "stream",
     "text": [
      "For dodge chance = 0 and SoC proc chance of 0.4083333333333333:\n",
      "prob without wf : 0.4083333333333333\n",
      "prob with wf    : 0.4566527777777778\n",
      "ratio           : 1.1183333333333334\n"
     ]
    },
    {
     "data": {
      "text/plain": [
       "(0.4083333333333333, 0.4566527777777778, 1.1183333333333334)"
      ]
     },
     "execution_count": 10,
     "metadata": {},
     "output_type": "execute_result"
    }
   ],
   "source": [
    "proc_torch = 7*3.8/60\n",
    "proc_torch\n",
    "\n",
    "proc_cata = 7*3.5/60\n",
    "get_soc_wf_ratio(0, proc_cata)"
   ]
  },
  {
   "cell_type": "code",
   "execution_count": 11,
   "id": "6127f2c6",
   "metadata": {},
   "outputs": [
    {
     "name": "stdout",
     "output_type": "stream",
     "text": [
      "For dodge chance = 0 and SoC proc chance of 0.4433333333333333:\n",
      "prob without wf : 0.4433333333333333\n",
      "prob with wf    : 0.4926911111111111\n",
      "ratio           : 1.1113333333333333\n"
     ]
    },
    {
     "data": {
      "text/plain": [
       "(0.4433333333333333, 0.4926911111111111, 1.1113333333333333)"
      ]
     },
     "execution_count": 11,
     "metadata": {},
     "output_type": "execute_result"
    }
   ],
   "source": [
    "get_soc_wf_ratio(0, proc_torch)"
   ]
  },
  {
   "cell_type": "code",
   "execution_count": 12,
   "id": "a5359451",
   "metadata": {},
   "outputs": [
    {
     "data": {
      "text/plain": [
       "0.34488377777"
      ]
     },
     "execution_count": 12,
     "metadata": {},
     "output_type": "execute_result"
    }
   ],
   "source": [
    "0.4926911111 * 0.7"
   ]
  },
  {
   "cell_type": "code",
   "execution_count": 13,
   "id": "dbd756e9",
   "metadata": {},
   "outputs": [
    {
     "data": {
      "text/plain": [
       "1.2178015524989243"
      ]
     },
     "execution_count": 13,
     "metadata": {},
     "output_type": "execute_result"
    }
   ],
   "source": [
    "0.42 / 0.34488377777"
   ]
  },
  {
   "cell_type": "code",
   "execution_count": 14,
   "id": "b742fd4c",
   "metadata": {},
   "outputs": [
    {
     "data": {
      "text/plain": [
       "0.9514074628897846"
      ]
     },
     "execution_count": 14,
     "metadata": {},
     "output_type": "execute_result"
    }
   ],
   "source": [
    "1.2178015524989243 / 1.28"
   ]
  },
  {
   "cell_type": "code",
   "execution_count": 15,
   "id": "427a25a6",
   "metadata": {},
   "outputs": [
    {
     "name": "stdout",
     "output_type": "stream",
     "text": [
      "For dodge chance = 0 and SoC proc chance of 0.8:\n",
      "prob without wf : 0.8\n",
      "prob with wf    : 0.8320000000000001\n",
      "ratio           : 1.04\n"
     ]
    },
    {
     "data": {
      "text/plain": [
       "(0.8, 0.8320000000000001, 1.04)"
      ]
     },
     "execution_count": 15,
     "metadata": {},
     "output_type": "execute_result"
    }
   ],
   "source": [
    "get_soc_wf_ratio(0, 0.8)"
   ]
  },
  {
   "cell_type": "code",
   "execution_count": 16,
   "id": "f8fc4ac1",
   "metadata": {},
   "outputs": [
    {
     "name": "stdout",
     "output_type": "stream",
     "text": [
      "For dodge chance = 0 and SoC proc chance of 0.2:\n",
      "prob without wf : 0.2\n",
      "prob with wf    : 0.23200000000000004\n",
      "ratio           : 1.1600000000000001\n"
     ]
    },
    {
     "data": {
      "text/plain": [
       "(0.2, 0.23200000000000004, 1.1600000000000001)"
      ]
     },
     "execution_count": 16,
     "metadata": {},
     "output_type": "execute_result"
    }
   ],
   "source": [
    "get_soc_wf_ratio(0, 0.2)"
   ]
  },
  {
   "cell_type": "code",
   "execution_count": 17,
   "id": "1453654f",
   "metadata": {},
   "outputs": [
    {
     "name": "stdout",
     "output_type": "stream",
     "text": [
      "For dodge chance = 0.01 and SoC proc chance of 0.0011666666666666668:\n",
      "prob without wf : 0.00114345\n",
      "prob with wf    : 0.0013695889630500001\n",
      "ratio           : 1.197769\n",
      "For dodge chance = 0.01 and SoC proc chance of 0.011254208754208754:\n",
      "prob without wf : 0.01103025\n",
      "prob with wf    : 0.01318966042625\n",
      "ratio           : 1.1957716666666667\n",
      "For dodge chance = 0.01 and SoC proc chance of 0.021341750841750842:\n",
      "prob without wf : 0.02091705\n",
      "prob with wf    : 0.02497023741905\n",
      "ratio           : 1.1937743333333333\n",
      "For dodge chance = 0.01 and SoC proc chance of 0.03142929292929293:\n",
      "prob without wf : 0.03080385\n",
      "prob with wf    : 0.03671131994145\n",
      "ratio           : 1.191777\n",
      "For dodge chance = 0.01 and SoC proc chance of 0.041516835016835014:\n",
      "prob without wf : 0.040690649999999995\n",
      "prob with wf    : 0.048412907993449994\n",
      "ratio           : 1.1897796666666667\n",
      "For dodge chance = 0.01 and SoC proc chance of 0.05160437710437711:\n",
      "prob without wf : 0.05057745\n",
      "prob with wf    : 0.06007500157505\n",
      "ratio           : 1.1877823333333333\n",
      "For dodge chance = 0.01 and SoC proc chance of 0.061691919191919194:\n",
      "prob without wf : 0.06046425\n",
      "prob with wf    : 0.07169760068625002\n",
      "ratio           : 1.1857850000000003\n",
      "For dodge chance = 0.01 and SoC proc chance of 0.07177946127946129:\n",
      "prob without wf : 0.07035105000000001\n",
      "prob with wf    : 0.08328070532705002\n",
      "ratio           : 1.1837876666666667\n",
      "For dodge chance = 0.01 and SoC proc chance of 0.08186700336700338:\n",
      "prob without wf : 0.08023785000000001\n",
      "prob with wf    : 0.09482431549745002\n",
      "ratio           : 1.1817903333333333\n",
      "For dodge chance = 0.01 and SoC proc chance of 0.09195454545454546:\n",
      "prob without wf : 0.09012465\n",
      "prob with wf    : 0.10632843119745\n",
      "ratio           : 1.179793\n",
      "For dodge chance = 0.01 and SoC proc chance of 0.10204208754208755:\n",
      "prob without wf : 0.10001145\n",
      "prob with wf    : 0.11779305242705\n",
      "ratio           : 1.1777956666666667\n",
      "For dodge chance = 0.01 and SoC proc chance of 0.11212962962962963:\n",
      "prob without wf : 0.10989825\n",
      "prob with wf    : 0.12921817918625\n",
      "ratio           : 1.1757983333333333\n",
      "For dodge chance = 0.01 and SoC proc chance of 0.12221717171717171:\n",
      "prob without wf : 0.11978504999999999\n",
      "prob with wf    : 0.14060381147505\n",
      "ratio           : 1.173801\n",
      "For dodge chance = 0.01 and SoC proc chance of 0.1323047138047138:\n",
      "prob without wf : 0.12967185\n",
      "prob with wf    : 0.15194994929345\n",
      "ratio           : 1.1718036666666665\n",
      "For dodge chance = 0.01 and SoC proc chance of 0.1423922558922559:\n",
      "prob without wf : 0.13955865\n",
      "prob with wf    : 0.16325659264144998\n",
      "ratio           : 1.169806333333333\n",
      "For dodge chance = 0.01 and SoC proc chance of 0.15247979797979797:\n",
      "prob without wf : 0.14944544999999998\n",
      "prob with wf    : 0.17452374151905\n",
      "ratio           : 1.1678090000000003\n",
      "For dodge chance = 0.01 and SoC proc chance of 0.16256734006734008:\n",
      "prob without wf : 0.15933225\n",
      "prob with wf    : 0.18575139592625003\n",
      "ratio           : 1.165811666666667\n",
      "For dodge chance = 0.01 and SoC proc chance of 0.17265488215488217:\n",
      "prob without wf : 0.16921905\n",
      "prob with wf    : 0.19693955586305\n",
      "ratio           : 1.1638143333333333\n",
      "For dodge chance = 0.01 and SoC proc chance of 0.18274242424242423:\n",
      "prob without wf : 0.17910584999999998\n",
      "prob with wf    : 0.20808822132945\n",
      "ratio           : 1.161817\n",
      "For dodge chance = 0.01 and SoC proc chance of 0.19282996632996632:\n",
      "prob without wf : 0.18899264999999998\n",
      "prob with wf    : 0.21919739232545\n",
      "ratio           : 1.1598196666666667\n",
      "For dodge chance = 0.01 and SoC proc chance of 0.2029175084175084:\n",
      "prob without wf : 0.19887944999999999\n",
      "prob with wf    : 0.23026706885104997\n",
      "ratio           : 1.1578223333333333\n",
      "For dodge chance = 0.01 and SoC proc chance of 0.21300505050505053:\n",
      "prob without wf : 0.20876625000000001\n",
      "prob with wf    : 0.24129725090625004\n",
      "ratio           : 1.155825\n",
      "For dodge chance = 0.01 and SoC proc chance of 0.2230925925925926:\n",
      "prob without wf : 0.21865305\n",
      "prob with wf    : 0.25228793849104997\n",
      "ratio           : 1.1538276666666665\n",
      "For dodge chance = 0.01 and SoC proc chance of 0.23318013468013465:\n",
      "prob without wf : 0.22853984999999996\n",
      "prob with wf    : 0.26323913160545\n",
      "ratio           : 1.1518303333333335\n",
      "For dodge chance = 0.01 and SoC proc chance of 0.24326767676767674:\n",
      "prob without wf : 0.23842664999999996\n",
      "prob with wf    : 0.27415083024945003\n",
      "ratio           : 1.1498330000000003\n",
      "For dodge chance = 0.01 and SoC proc chance of 0.2533552188552189:\n",
      "prob without wf : 0.24831345000000002\n",
      "prob with wf    : 0.28502303442305005\n",
      "ratio           : 1.1478356666666667\n",
      "For dodge chance = 0.01 and SoC proc chance of 0.2634427609427609:\n",
      "prob without wf : 0.25820024999999996\n",
      "prob with wf    : 0.29585574412625\n",
      "ratio           : 1.1458383333333335\n",
      "For dodge chance = 0.01 and SoC proc chance of 0.273530303030303:\n",
      "prob without wf : 0.26808705\n",
      "prob with wf    : 0.30664895935905\n",
      "ratio           : 1.143841\n",
      "For dodge chance = 0.01 and SoC proc chance of 0.2836178451178451:\n",
      "prob without wf : 0.27797384999999997\n",
      "prob with wf    : 0.31740268012144995\n",
      "ratio           : 1.1418436666666667\n",
      "For dodge chance = 0.01 and SoC proc chance of 0.2937053872053872:\n",
      "prob without wf : 0.28786065\n",
      "prob with wf    : 0.3281169064134499\n",
      "ratio           : 1.139846333333333\n",
      "For dodge chance = 0.01 and SoC proc chance of 0.3037929292929293:\n",
      "prob without wf : 0.29774744999999997\n",
      "prob with wf    : 0.33879163823505\n",
      "ratio           : 1.137849\n",
      "For dodge chance = 0.01 and SoC proc chance of 0.31388047138047137:\n",
      "prob without wf : 0.30763425\n",
      "prob with wf    : 0.34942687558625\n",
      "ratio           : 1.1358516666666667\n",
      "For dodge chance = 0.01 and SoC proc chance of 0.3239680134680134:\n",
      "prob without wf : 0.3175210499999999\n",
      "prob with wf    : 0.3600226184670499\n",
      "ratio           : 1.1338543333333333\n",
      "For dodge chance = 0.01 and SoC proc chance of 0.33405555555555555:\n",
      "prob without wf : 0.32740785\n",
      "prob with wf    : 0.37057886687745006\n",
      "ratio           : 1.1318570000000001\n",
      "For dodge chance = 0.01 and SoC proc chance of 0.3441430976430977:\n",
      "prob without wf : 0.33729465000000003\n",
      "prob with wf    : 0.3810956208174501\n",
      "ratio           : 1.1298596666666667\n",
      "For dodge chance = 0.01 and SoC proc chance of 0.3542306397306397:\n",
      "prob without wf : 0.34718144999999995\n",
      "prob with wf    : 0.3915728802870499\n",
      "ratio           : 1.1278623333333333\n",
      "For dodge chance = 0.01 and SoC proc chance of 0.3643181818181818:\n",
      "prob without wf : 0.35706825\n",
      "prob with wf    : 0.40201064528625\n",
      "ratio           : 1.1258650000000001\n",
      "For dodge chance = 0.01 and SoC proc chance of 0.3744057239057239:\n",
      "prob without wf : 0.36695505\n",
      "prob with wf    : 0.41240891581504996\n",
      "ratio           : 1.1238676666666665\n",
      "For dodge chance = 0.01 and SoC proc chance of 0.38449326599326594:\n",
      "prob without wf : 0.3768418499999999\n",
      "prob with wf    : 0.42276769187344987\n",
      "ratio           : 1.1218703333333333\n",
      "For dodge chance = 0.01 and SoC proc chance of 0.39458080808080803:\n",
      "prob without wf : 0.38672864999999995\n",
      "prob with wf    : 0.4330869734614499\n",
      "ratio           : 1.119873\n",
      "For dodge chance = 0.01 and SoC proc chance of 0.4046683501683502:\n",
      "prob without wf : 0.39661545\n",
      "prob with wf    : 0.44336676057905006\n",
      "ratio           : 1.117875666666667\n",
      "For dodge chance = 0.01 and SoC proc chance of 0.4147558922558922:\n",
      "prob without wf : 0.40650224999999995\n",
      "prob with wf    : 0.45360705322624995\n",
      "ratio           : 1.1158783333333333\n",
      "For dodge chance = 0.01 and SoC proc chance of 0.42484343434343436:\n",
      "prob without wf : 0.41638905\n",
      "prob with wf    : 0.46380785140305\n",
      "ratio           : 1.113881\n",
      "For dodge chance = 0.01 and SoC proc chance of 0.4349309764309764:\n",
      "prob without wf : 0.42627584999999996\n",
      "prob with wf    : 0.47396915510945\n",
      "ratio           : 1.1118836666666667\n",
      "For dodge chance = 0.01 and SoC proc chance of 0.44501851851851854:\n",
      "prob without wf : 0.43616265\n",
      "prob with wf    : 0.48409096434544996\n",
      "ratio           : 1.1098863333333333\n",
      "For dodge chance = 0.01 and SoC proc chance of 0.45510606060606057:\n",
      "prob without wf : 0.44604944999999996\n",
      "prob with wf    : 0.49417327911104986\n",
      "ratio           : 1.1078889999999997\n",
      "For dodge chance = 0.01 and SoC proc chance of 0.46519360269360266:\n",
      "prob without wf : 0.45593624999999993\n",
      "prob with wf    : 0.5042160994062499\n",
      "ratio           : 1.1058916666666665\n",
      "For dodge chance = 0.01 and SoC proc chance of 0.47528114478114475:\n",
      "prob without wf : 0.46582304999999996\n",
      "prob with wf    : 0.5142194252310499\n",
      "ratio           : 1.1038943333333333\n",
      "For dodge chance = 0.01 and SoC proc chance of 0.48536868686868684:\n",
      "prob without wf : 0.47570984999999993\n",
      "prob with wf    : 0.5241832565854501\n",
      "ratio           : 1.1018970000000003\n",
      "For dodge chance = 0.01 and SoC proc chance of 0.495456228956229:\n",
      "prob without wf : 0.48559665\n",
      "prob with wf    : 0.53410759346945\n",
      "ratio           : 1.0998996666666667\n",
      "For dodge chance = 0.01 and SoC proc chance of 0.505543771043771:\n",
      "prob without wf : 0.49548344999999994\n",
      "prob with wf    : 0.54399243588305\n",
      "ratio           : 1.0979023333333335\n",
      "For dodge chance = 0.01 and SoC proc chance of 0.5156313131313132:\n",
      "prob without wf : 0.50537025\n",
      "prob with wf    : 0.5538377838262499\n",
      "ratio           : 1.095905\n",
      "For dodge chance = 0.01 and SoC proc chance of 0.5257188552188553:\n",
      "prob without wf : 0.5152570500000001\n",
      "prob with wf    : 0.5636436372990501\n",
      "ratio           : 1.0939076666666667\n",
      "For dodge chance = 0.01 and SoC proc chance of 0.5358063973063972:\n",
      "prob without wf : 0.5251438499999999\n",
      "prob with wf    : 0.5734099963014498\n",
      "ratio           : 1.0919103333333333\n",
      "For dodge chance = 0.01 and SoC proc chance of 0.5458939393939394:\n",
      "prob without wf : 0.5350306499999999\n",
      "prob with wf    : 0.5831368608334498\n",
      "ratio           : 1.089913\n",
      "For dodge chance = 0.01 and SoC proc chance of 0.5559814814814814:\n",
      "prob without wf : 0.5449174499999999\n",
      "prob with wf    : 0.5928242308950499\n",
      "ratio           : 1.0879156666666665\n",
      "For dodge chance = 0.01 and SoC proc chance of 0.5660690235690236:\n",
      "prob without wf : 0.55480425\n",
      "prob with wf    : 0.60247210648625\n",
      "ratio           : 1.0859183333333333\n",
      "For dodge chance = 0.01 and SoC proc chance of 0.5761565656565657:\n",
      "prob without wf : 0.56469105\n",
      "prob with wf    : 0.61208048760705\n",
      "ratio           : 1.0839210000000001\n",
      "For dodge chance = 0.01 and SoC proc chance of 0.5862441077441077:\n",
      "prob without wf : 0.57457785\n",
      "prob with wf    : 0.62164937425745\n",
      "ratio           : 1.0819236666666667\n",
      "For dodge chance = 0.01 and SoC proc chance of 0.5963316498316498:\n",
      "prob without wf : 0.5844646499999999\n",
      "prob with wf    : 0.63117876643745\n",
      "ratio           : 1.0799263333333333\n",
      "For dodge chance = 0.01 and SoC proc chance of 0.6064191919191919:\n",
      "prob without wf : 0.59435145\n",
      "prob with wf    : 0.6406686641470499\n",
      "ratio           : 1.077929\n",
      "For dodge chance = 0.01 and SoC proc chance of 0.616506734006734:\n",
      "prob without wf : 0.60423825\n",
      "prob with wf    : 0.6501190673862499\n",
      "ratio           : 1.0759316666666665\n",
      "For dodge chance = 0.01 and SoC proc chance of 0.626594276094276:\n",
      "prob without wf : 0.6141250499999998\n",
      "prob with wf    : 0.6595299761550498\n",
      "ratio           : 1.0739343333333333\n",
      "For dodge chance = 0.01 and SoC proc chance of 0.6366818181818182:\n",
      "prob without wf : 0.62401185\n",
      "prob with wf    : 0.66890139045345\n",
      "ratio           : 1.071937\n",
      "For dodge chance = 0.01 and SoC proc chance of 0.6467693602693603:\n",
      "prob without wf : 0.63389865\n",
      "prob with wf    : 0.67823331028145\n",
      "ratio           : 1.0699396666666665\n",
      "For dodge chance = 0.01 and SoC proc chance of 0.6568569023569023:\n",
      "prob without wf : 0.64378545\n",
      "prob with wf    : 0.68752573563905\n",
      "ratio           : 1.0679423333333333\n",
      "For dodge chance = 0.01 and SoC proc chance of 0.6669444444444445:\n",
      "prob without wf : 0.65367225\n",
      "prob with wf    : 0.69677866652625\n",
      "ratio           : 1.0659450000000001\n",
      "For dodge chance = 0.01 and SoC proc chance of 0.6770319865319865:\n",
      "prob without wf : 0.6635590499999999\n",
      "prob with wf    : 0.70599210294305\n",
      "ratio           : 1.0639476666666667\n",
      "For dodge chance = 0.01 and SoC proc chance of 0.6871195286195287:\n",
      "prob without wf : 0.6734458500000001\n",
      "prob with wf    : 0.7151660448894501\n",
      "ratio           : 1.0619503333333333\n",
      "For dodge chance = 0.01 and SoC proc chance of 0.6972070707070707:\n",
      "prob without wf : 0.68333265\n",
      "prob with wf    : 0.7243004923654499\n",
      "ratio           : 1.059953\n",
      "For dodge chance = 0.01 and SoC proc chance of 0.7072946127946127:\n",
      "prob without wf : 0.6932194499999998\n",
      "prob with wf    : 0.73339544537105\n",
      "ratio           : 1.0579556666666667\n",
      "For dodge chance = 0.01 and SoC proc chance of 0.717382154882155:\n",
      "prob without wf : 0.70310625\n",
      "prob with wf    : 0.74245090390625\n",
      "ratio           : 1.0559583333333333\n",
      "For dodge chance = 0.01 and SoC proc chance of 0.727469696969697:\n",
      "prob without wf : 0.71299305\n",
      "prob with wf    : 0.7514668679710499\n",
      "ratio           : 1.053961\n",
      "For dodge chance = 0.01 and SoC proc chance of 0.737557239057239:\n",
      "prob without wf : 0.72287985\n",
      "prob with wf    : 0.76044333756545\n",
      "ratio           : 1.0519636666666667\n",
      "For dodge chance = 0.01 and SoC proc chance of 0.7476447811447812:\n",
      "prob without wf : 0.73276665\n",
      "prob with wf    : 0.7693803126894501\n",
      "ratio           : 1.0499663333333336\n",
      "For dodge chance = 0.01 and SoC proc chance of 0.7577323232323233:\n",
      "prob without wf : 0.74265345\n",
      "prob with wf    : 0.77827779334305\n",
      "ratio           : 1.047969\n",
      "For dodge chance = 0.01 and SoC proc chance of 0.7678198653198652:\n",
      "prob without wf : 0.7525402499999999\n",
      "prob with wf    : 0.7871357795262499\n",
      "ratio           : 1.0459716666666667\n",
      "For dodge chance = 0.01 and SoC proc chance of 0.7779074074074074:\n",
      "prob without wf : 0.76242705\n",
      "prob with wf    : 0.7959542712390499\n",
      "ratio           : 1.0439743333333333\n",
      "For dodge chance = 0.01 and SoC proc chance of 0.7879949494949495:\n",
      "prob without wf : 0.77231385\n",
      "prob with wf    : 0.8047332684814499\n",
      "ratio           : 1.041977\n",
      "For dodge chance = 0.01 and SoC proc chance of 0.7980824915824916:\n",
      "prob without wf : 0.7822006499999999\n",
      "prob with wf    : 0.81347277125345\n",
      "ratio           : 1.0399796666666667\n",
      "For dodge chance = 0.01 and SoC proc chance of 0.8081700336700337:\n",
      "prob without wf : 0.79208745\n",
      "prob with wf    : 0.82217277955505\n",
      "ratio           : 1.0379823333333333\n",
      "For dodge chance = 0.01 and SoC proc chance of 0.8182575757575757:\n",
      "prob without wf : 0.80197425\n",
      "prob with wf    : 0.83083329338625\n",
      "ratio           : 1.035985\n",
      "For dodge chance = 0.01 and SoC proc chance of 0.8283451178451178:\n",
      "prob without wf : 0.8118610499999999\n",
      "prob with wf    : 0.8394543127470501\n",
      "ratio           : 1.033987666666667\n",
      "For dodge chance = 0.01 and SoC proc chance of 0.83843265993266:\n",
      "prob without wf : 0.8217478500000001\n",
      "prob with wf    : 0.8480358376374502\n",
      "ratio           : 1.0319903333333336\n",
      "For dodge chance = 0.01 and SoC proc chance of 0.8485202020202021:\n",
      "prob without wf : 0.83163465\n",
      "prob with wf    : 0.85657786805745\n",
      "ratio           : 1.029993\n",
      "For dodge chance = 0.01 and SoC proc chance of 0.858607744107744:\n",
      "prob without wf : 0.8415214499999999\n",
      "prob with wf    : 0.8650804040070499\n",
      "ratio           : 1.0279956666666668\n",
      "For dodge chance = 0.01 and SoC proc chance of 0.8686952861952862:\n",
      "prob without wf : 0.85140825\n",
      "prob with wf    : 0.87354344548625\n",
      "ratio           : 1.0259983333333333\n",
      "For dodge chance = 0.01 and SoC proc chance of 0.8787828282828283:\n",
      "prob without wf : 0.86129505\n",
      "prob with wf    : 0.8819669924950498\n",
      "ratio           : 1.024001\n",
      "For dodge chance = 0.01 and SoC proc chance of 0.8888703703703703:\n",
      "prob without wf : 0.8711818499999999\n",
      "prob with wf    : 0.8903510450334499\n",
      "ratio           : 1.0220036666666665\n",
      "For dodge chance = 0.01 and SoC proc chance of 0.8989579124579125:\n",
      "prob without wf : 0.88106865\n",
      "prob with wf    : 0.89869560310145\n",
      "ratio           : 1.0200063333333333\n",
      "For dodge chance = 0.01 and SoC proc chance of 0.9090454545454546:\n",
      "prob without wf : 0.89095545\n",
      "prob with wf    : 0.90700066669905\n",
      "ratio           : 1.018009\n",
      "For dodge chance = 0.01 and SoC proc chance of 0.9191329966329966:\n",
      "prob without wf : 0.90084225\n",
      "prob with wf    : 0.91526623582625\n",
      "ratio           : 1.0160116666666668\n",
      "For dodge chance = 0.01 and SoC proc chance of 0.9292205387205387:\n",
      "prob without wf : 0.9107290499999999\n",
      "prob with wf    : 0.9234923104830499\n",
      "ratio           : 1.0140143333333334\n",
      "For dodge chance = 0.01 and SoC proc chance of 0.9393080808080808:\n",
      "prob without wf : 0.92061585\n",
      "prob with wf    : 0.93167889066945\n",
      "ratio           : 1.012017\n",
      "For dodge chance = 0.01 and SoC proc chance of 0.9493956228956228:\n",
      "prob without wf : 0.9305026499999999\n",
      "prob with wf    : 0.93982597638545\n",
      "ratio           : 1.0100196666666668\n",
      "For dodge chance = 0.01 and SoC proc chance of 0.959483164983165:\n",
      "prob without wf : 0.94038945\n",
      "prob with wf    : 0.94793356763105\n",
      "ratio           : 1.0080223333333334\n",
      "For dodge chance = 0.01 and SoC proc chance of 0.969570707070707:\n",
      "prob without wf : 0.9502762499999999\n",
      "prob with wf    : 0.9560016644062499\n",
      "ratio           : 1.006025\n",
      "For dodge chance = 0.01 and SoC proc chance of 0.9796582491582491:\n",
      "prob without wf : 0.9601630499999999\n",
      "prob with wf    : 0.96403026671105\n",
      "ratio           : 1.0040276666666668\n",
      "For dodge chance = 0.01 and SoC proc chance of 0.9897457912457913:\n",
      "prob without wf : 0.97004985\n",
      "prob with wf    : 0.9720193745454501\n",
      "ratio           : 1.0020303333333334\n",
      "For dodge chance = 0.01 and SoC proc chance of 0.9998333333333334:\n",
      "prob without wf : 0.97993665\n",
      "prob with wf    : 0.9799689879094499\n",
      "ratio           : 1.000033\n",
      "[1.197769, 1.1957716666666667, 1.1937743333333333, 1.191777, 1.1897796666666667, 1.1877823333333333, 1.1857850000000003, 1.1837876666666667, 1.1817903333333333, 1.179793, 1.1777956666666667, 1.1757983333333333, 1.173801, 1.1718036666666665, 1.169806333333333, 1.1678090000000003, 1.165811666666667, 1.1638143333333333, 1.161817, 1.1598196666666667, 1.1578223333333333, 1.155825, 1.1538276666666665, 1.1518303333333335, 1.1498330000000003, 1.1478356666666667, 1.1458383333333335, 1.143841, 1.1418436666666667, 1.139846333333333, 1.137849, 1.1358516666666667, 1.1338543333333333, 1.1318570000000001, 1.1298596666666667, 1.1278623333333333, 1.1258650000000001, 1.1238676666666665, 1.1218703333333333, 1.119873, 1.117875666666667, 1.1158783333333333, 1.113881, 1.1118836666666667, 1.1098863333333333, 1.1078889999999997, 1.1058916666666665, 1.1038943333333333, 1.1018970000000003, 1.0998996666666667, 1.0979023333333335, 1.095905, 1.0939076666666667, 1.0919103333333333, 1.089913, 1.0879156666666665, 1.0859183333333333, 1.0839210000000001, 1.0819236666666667, 1.0799263333333333, 1.077929, 1.0759316666666665, 1.0739343333333333, 1.071937, 1.0699396666666665, 1.0679423333333333, 1.0659450000000001, 1.0639476666666667, 1.0619503333333333, 1.059953, 1.0579556666666667, 1.0559583333333333, 1.053961, 1.0519636666666667, 1.0499663333333336, 1.047969, 1.0459716666666667, 1.0439743333333333, 1.041977, 1.0399796666666667, 1.0379823333333333, 1.035985, 1.033987666666667, 1.0319903333333336, 1.029993, 1.0279956666666668, 1.0259983333333333, 1.024001, 1.0220036666666665, 1.0200063333333333, 1.018009, 1.0160116666666668, 1.0140143333333334, 1.012017, 1.0100196666666668, 1.0080223333333334, 1.006025, 1.0040276666666668, 1.0020303333333334, 1.000033]\n"
     ]
    },
    {
     "data": {
      "image/png": "[encoded data removed]",
      "text/plain": [
       "<Figure size 576x360 with 1 Axes>"
      ]
     },
     "metadata": {
      "needs_background": "light"
     },
     "output_type": "display_data"
    },
    {
     "data": {
      "image/png": "[encoded data removed]",
      "text/plain": [
       "<Figure size 576x360 with 1 Axes>"
      ]
     },
     "metadata": {
      "needs_background": "light"
     },
     "output_type": "display_data"
    }
   ],
   "source": [
    "%config InlineBackend.print_figure_kwargs={'facecolor' : \"w\"}\n",
    "\n",
    "import numpy as np\n",
    "import matplotlib\n",
    "import matplotlib.pyplot as plt\n",
    "from matplotlib.figure import Figure\n",
    "from matplotlib.backends.backend_agg import FigureCanvasAgg as FigureCanvas\n",
    "\n",
    "def generate_graph(p_dodge, divisions):  \n",
    "    speeds = np.linspace(0.01, 8.57, num=divisions)\n",
    "    speeds\n",
    "    results = []\n",
    "    for speed in speeds:\n",
    "        proc_soc = 7*speed/60\n",
    "        r = get_soc_wf_ratio(p_dodge, proc_soc)\n",
    "        results.append(r)\n",
    "    ratios = [r[2] for r in results]\n",
    "    procs = [r[1] for r in results]\n",
    "    print(ratios)\n",
    "    \n",
    "\n",
    "    figure = Figure()\n",
    "    canvas = FigureCanvas(figure)\n",
    "    fig = plt.figure(figsize = (8, 5))\n",
    "    # Create the plot\n",
    "    plt.plot(speeds, ratios)\n",
    "    plt.title(f'Benefit to SoC proc chance with WF, dodge chance = {p_dodge}')\n",
    "    plt.ylabel('Relative benefit to proc chance')\n",
    "    plt.xlabel('Weapon Speed')\n",
    "    \n",
    "    figure = Figure()\n",
    "    canvas = FigureCanvas(figure)\n",
    "    fig = plt.figure(figsize = (8, 5))\n",
    "    # Create the plot\n",
    "    plt.plot(speeds, procs)\n",
    "    plt.grid()\n",
    "    plt.title(f'SoC proc chance with WF, dodge chance = {p_dodge}')\n",
    "    plt.ylabel('SoC proc chance')\n",
    "    plt.xlabel('Weapon Speed')\n",
    "    \n",
    "generate_graph(0.01, 100)"
   ]
  },
  {
   "cell_type": "code",
   "execution_count": null,
   "id": "d9e07b21",
   "metadata": {},
   "outputs": [],
   "source": []
  },
  {
   "cell_type": "code",
   "execution_count": 18,
   "id": "fde91ad4",
   "metadata": {},
   "outputs": [
    {
     "data": {
      "text/plain": [
       "2433.2695614768386"
      ]
     },
     "execution_count": 18,
     "metadata": {},
     "output_type": "execute_result"
    },
    {
     "data": {
      "text/plain": [
       "2269.1393062779084"
      ]
     },
     "execution_count": 18,
     "metadata": {},
     "output_type": "execute_result"
    }
   ],
   "source": [
    "jotc_sp = 219\n",
    "soc_spc = 0.2\n",
    "\n",
    "f_holy = 1.1 * 0.94\n",
    "\n",
    "p_glance = 0.24\n",
    "f_glance = 0.75\n",
    "f_crit = 2.06\n",
    "\n",
    "p_wf = 0.2\n",
    "\n",
    "weapon_dict = {\n",
    "    'LHE': {'speed': 3.6, 'lower': 365.0, 'upper': 549.0},\n",
    "    'torch': {'speed': 3.8, 'lower': 396, 'upper': 595}\n",
    "}\n",
    "\n",
    "def get_d(ap, weapon_label):\n",
    "    if weapon_label not in weapon_dict:\n",
    "        print(f'ERROR: label {weapon_label} not valid!')\n",
    "    w_d = weapon_dict[weapon_label]\n",
    "    median = (w_d['upper'] + w_d['lower']) / 2.\n",
    "    return (median + ( ap * w_d['speed'] ) / 14) * 1.06 * 1.03 * 1.02\n",
    "\n",
    "def get_phys_damage_outcomes_factor(p_crit, p_dodge):\n",
    "    return ( (p_glance * f_glance) + (p_crit * f_crit ) + (1 - p_glance - p_crit - p_dodge) ) / (1 - p_dodge)\n",
    "\n",
    "def get_special_damage_outcomes_factor(p_crit):\n",
    "    return (p_crit * f_crit + (1 - p_crit))\n",
    "\n",
    "def get_f_phys(target_armor, arm_pen=0):\n",
    "    return 1 - ( ((target_armor - arm_pen + 1) ) / (467.5*73 - 22167.5) )\n",
    "\n",
    "def get_f_wf(ap, bonus_ap=511.75, weapon_label='LHE'):\n",
    "    if weapon_label not in weapon_dict:\n",
    "        print(f'ERROR: label {weapon_label} not valid!')\n",
    "    w_d = weapon_dict[weapon_label]\n",
    "    d_weapon_ave = (w_d['upper'] + w_d['lower']) / 2.\n",
    "#     print(d_weapon_ave)\n",
    "    ws = w_d['speed']\n",
    "    return (d_weapon_ave + (ws*(ap+bonus_ap ) / 14) ) / ( (d_weapon_ave + (ws*ap) / 14) )\n",
    "\n",
    "def get_soc_dmg(p_dodge, p_crit=0.35, weapon_label='LHE', ap=3000,\n",
    "                target_armor=1800, arm_pen=0, bonus_wf_ap=511.75):\n",
    "    \n",
    "    # Weapon stats\n",
    "    if weapon_label not in weapon_dict:\n",
    "        print(f'ERROR: label {weapon_label} not valid!')\n",
    "    w_d = weapon_dict[weapon_label]\n",
    "    \n",
    "    # First get the phys D.\n",
    "    d_ave_phys = get_d(ap, weapon_label) * get_f_phys(target_armor, arm_pen)\n",
    "#     print(f'weapon damage phys = {d_ave_phys}') \n",
    "    phys_damage_outcomes_factor = get_phys_damage_outcomes_factor(p_crit, p_dodge)\n",
    "#     print(f'damage outcomes f = {phys_damage_outcomes_factor}')\n",
    "    d_ave_melee = d_ave_phys * phys_damage_outcomes_factor\n",
    "#     print(d_ave_melee)\n",
    "    \n",
    "    # Next get the holy D on a SoC proc.\n",
    "    d_ave_holy = f_holy * ( (d_ave_phys + (jotc_sp * soc_spc) ) )\n",
    "    d_ave_soc_proc = get_special_damage_outcomes_factor(p_crit) * 0.7 * d_ave_holy\n",
    "#     print(d_ave_soc_proc)\n",
    "    \n",
    "    # Get the SoC proc chance.\n",
    "    p_soc = 7*w_d['speed']/60\n",
    "    \n",
    "    # Get the windfury attack modifier at this ap\n",
    "    f_wf = get_f_wf(ap, bonus_ap=bonus_wf_ap)\n",
    "    \n",
    "    # Now project how many of these we get in a SoC swing under windfury\n",
    "    average_d = (1-p_dodge) * d_ave_melee + (1 - p_dodge)**2 * p_wf * f_wf * d_ave_melee + \\\n",
    "                (1 - p_dodge)**2 * p_soc * d_ave_soc_proc + \\\n",
    "                (1 - p_dodge)**3 * p_wf * p_soc * d_ave_soc_proc\n",
    "                \n",
    "    \n",
    "#     print(average_d)\n",
    "    return(average_d)\n",
    "    \n",
    "get_soc_dmg(0.01)\n",
    "get_soc_dmg(0.065)"
   ]
  },
  {
   "cell_type": "code",
   "execution_count": 19,
   "id": "4391f099",
   "metadata": {},
   "outputs": [
    {
     "data": {
      "text/plain": [
       "1.1136360000000003"
      ]
     },
     "execution_count": 19,
     "metadata": {},
     "output_type": "execute_result"
    }
   ],
   "source": [
    "global_scale_factor = 1.02 * 1.06 * 1.03\n",
    "global_scale_factor"
   ]
  },
  {
   "cell_type": "code",
   "execution_count": 20,
   "id": "5cf37a98",
   "metadata": {},
   "outputs": [
    {
     "data": {
      "text/plain": [
       "array([0.    , 0.0025, 0.005 , 0.0075, 0.01  , 0.0125, 0.015 , 0.0175,\n",
       "       0.02  , 0.0225, 0.025 , 0.0275, 0.03  , 0.0325, 0.035 , 0.0375,\n",
       "       0.04  , 0.0425, 0.045 , 0.0475, 0.05  , 0.0525, 0.055 , 0.0575,\n",
       "       0.06  , 0.0625, 0.065 ])"
      ]
     },
     "execution_count": 20,
     "metadata": {},
     "output_type": "execute_result"
    },
    {
     "data": {
      "text/plain": [
       "array([ 0.,  1.,  2.,  3.,  4.,  5.,  6.,  7.,  8.,  9., 10., 11., 12.,\n",
       "       13., 14., 15., 16., 17., 18., 19., 20., 21., 22., 23., 24., 25.,\n",
       "       26.])"
      ]
     },
     "execution_count": 20,
     "metadata": {},
     "output_type": "execute_result"
    }
   ],
   "source": [
    "dodge_chances = np.linspace(0.00, 0.065, num=27)\n",
    "dodge_chances\n",
    "\n",
    "expertises = np.linspace(0, 26, num=27)\n",
    "expertises"
   ]
  },
  {
   "cell_type": "code",
   "execution_count": 21,
   "id": "676c2843",
   "metadata": {},
   "outputs": [
    {
     "name": "stdout",
     "output_type": "stream",
     "text": [
      "[2743.7724036052973, 2735.251311655639, 2726.744984294856, 2718.253411029175, 2709.776581364821, 2701.314484808022, 2692.8671108650015, 2684.434449041987, 2676.0164888452027, 2667.613219780876, 2659.2246313552323, 2650.8507130744974, 2642.491454444898, 2634.146844972657, 2625.816874164004, 2617.5015315251626, 2609.2008065623595, 2600.9146887818197, 2592.6431676897705, 2584.3862327924353, 2576.143873596043, 2567.916079606818, 2559.702840330986, 2551.5041452747723, 2543.3199839444046, 2535.1503458461066, 2526.9952204861056]\n"
     ]
    },
    {
     "data": {
      "text/plain": [
       "[<matplotlib.lines.Line2D at 0x7f80e180b4c0>]"
      ]
     },
     "execution_count": 21,
     "metadata": {},
     "output_type": "execute_result"
    },
    {
     "data": {
      "text/plain": [
       "Text(0.5, 1.0, 'Projected SoC swing damage with windfury, LHE')"
      ]
     },
     "execution_count": 21,
     "metadata": {},
     "output_type": "execute_result"
    },
    {
     "data": {
      "text/plain": [
       "Text(0, 0.5, 'Damage')"
      ]
     },
     "execution_count": 21,
     "metadata": {},
     "output_type": "execute_result"
    },
    {
     "data": {
      "text/plain": [
       "Text(0.5, 0, 'Dodge Chance')"
      ]
     },
     "execution_count": 21,
     "metadata": {},
     "output_type": "execute_result"
    },
    {
     "data": {
      "image/png": "[encoded data removed]",
      "text/plain": [
       "<Figure size 576x360 with 1 Axes>"
      ]
     },
     "metadata": {
      "needs_background": "light"
     },
     "output_type": "display_data"
    }
   ],
   "source": [
    "results_LHE = []\n",
    "for p_dodge in dodge_chances:\n",
    "    results_LHE.append(get_soc_dmg(p_dodge) * global_scale_factor)\n",
    "print(results_LHE)\n",
    "\n",
    "figure = Figure()\n",
    "canvas = FigureCanvas(figure)\n",
    "fig = plt.figure(figsize = (8, 5))\n",
    "# Create the plot\n",
    "plt.plot(dodge_chances, results_LHE)\n",
    "plt.grid()\n",
    "plt.title(f'Projected SoC swing damage with windfury, LHE')\n",
    "plt.ylabel('Damage')\n",
    "plt.xlabel('Dodge Chance')"
   ]
  },
  {
   "cell_type": "code",
   "execution_count": 22,
   "id": "f15cd048",
   "metadata": {},
   "outputs": [
    {
     "name": "stdout",
     "output_type": "stream",
     "text": [
      "[2963.5655428794607, 2954.2741782848857, 2944.999190136891, 2935.7405666517616, 2926.4982960457874, 2917.272366535253, 2908.062766336446, 2898.8694836656528, 2889.6925067391594, 2880.5318237732554, 2871.3874229842245, 2862.2592925883555, 2853.147420801934, 2844.0517958412474, 2834.9724059225828, 2825.9092392622256, 2816.8622840764647, 2807.8315285815843, 2798.8169609938745, 2789.818569529619, 2780.8363424051063, 2771.8702678366226, 2762.9203340404542, 2753.9865292328896, 2745.0688416302146, 2736.167259448715, 2727.28177090468]\n"
     ]
    },
    {
     "data": {
      "text/plain": [
       "[<matplotlib.lines.Line2D at 0x7f80e1776490>]"
      ]
     },
     "execution_count": 22,
     "metadata": {},
     "output_type": "execute_result"
    },
    {
     "data": {
      "text/plain": [
       "Text(0.5, 1.0, 'Projected SoC swing damage with windfury, Torch')"
      ]
     },
     "execution_count": 22,
     "metadata": {},
     "output_type": "execute_result"
    },
    {
     "data": {
      "text/plain": [
       "Text(0, 0.5, 'Damage')"
      ]
     },
     "execution_count": 22,
     "metadata": {},
     "output_type": "execute_result"
    },
    {
     "data": {
      "text/plain": [
       "Text(0.5, 0, 'Expertise')"
      ]
     },
     "execution_count": 22,
     "metadata": {},
     "output_type": "execute_result"
    },
    {
     "data": {
      "image/png": "[encoded data removed]",
      "text/plain": [
       "<Figure size 576x360 with 1 Axes>"
      ]
     },
     "metadata": {
      "needs_background": "light"
     },
     "output_type": "display_data"
    }
   ],
   "source": [
    "results_torch = []\n",
    "for p_dodge in dodge_chances:\n",
    "    results_torch.append(get_soc_dmg(p_dodge, weapon_label='torch') * global_scale_factor)\n",
    "print(results_torch)\n",
    "\n",
    "results_torch.reverse()\n",
    "figure = Figure()\n",
    "canvas = FigureCanvas(figure)\n",
    "fig = plt.figure(figsize = (8, 5))\n",
    "# Create the plot\n",
    "plt.plot(expertises, results_torch)\n",
    "plt.grid()\n",
    "plt.title(f'Projected SoC swing damage with windfury, Torch')\n",
    "plt.ylabel('Damage')\n",
    "plt.xlabel('Expertise')"
   ]
  },
  {
   "cell_type": "code",
   "execution_count": 23,
   "id": "c0917b00",
   "metadata": {},
   "outputs": [
    {
     "data": {
      "text/plain": [
       "1.0866370957689502"
      ]
     },
     "execution_count": 23,
     "metadata": {},
     "output_type": "execute_result"
    }
   ],
   "source": [
    "d1 = get_soc_dmg(0.0, weapon_label='torch')\n",
    "d2 = get_soc_dmg(0.065, weapon_label='torch')\n",
    "\n",
    "d1/d2"
   ]
  },
  {
   "cell_type": "code",
   "execution_count": null,
   "id": "ae4faf76",
   "metadata": {},
   "outputs": [],
   "source": []
  }
 ],
 "metadata": {
  "kernelspec": {
   "display_name": "retational",
   "language": "python",
   "name": "retational"
  },
  "language_info": {
   "codemirror_mode": {
    "name": "ipython",
    "version": 3
   },
   "file_extension": ".py",
   "mimetype": "text/x-python",
   "name": "python",
   "nbconvert_exporter": "python",
   "pygments_lexer": "ipython3",
   "version": "3.9.7"
  }
 },
 "nbformat": 4,
 "nbformat_minor": 5
}
