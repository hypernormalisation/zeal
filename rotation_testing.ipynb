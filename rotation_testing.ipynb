{
 "cells": [
  {
   "cell_type": "markdown",
   "id": "deda6c4b",
   "metadata": {},
   "source": [
    "## Combat A"
   ]
  },
  {
   "cell_type": "code",
   "execution_count": 1,
   "id": "9687d678",
   "metadata": {},
   "outputs": [
    {
     "name": "stdout",
     "output_type": "stream",
     "text": [
      "Player properties:\n",
      "--                   AP = 3400\n",
      "--          crit chance = 0.35\n",
      "--               weapon = torch\n",
      "--              arm pen = 0\n",
      "--            expertise = 18\n",
      "--  chance to be dodged = 0.02\n",
      "Target properties:\n",
      "--        base armor = 6200\n",
      "--    modified armor = 1715\n",
      "--             JotCr = True\n",
      "--   expose weakness = 1200 agi\n"
     ]
    },
    {
     "data": {
      "text/plain": [
       "{'naked_swing': 0.7016955768520259,\n",
       " 'sob_swing': 1.0,\n",
       " 'soc_swing': 0.9572087619688003,\n",
       " 'twist': 1.4221075092945836,\n",
       " 'cs': 0.5691830871445493}"
      ]
     },
     "execution_count": 1,
     "metadata": {},
     "output_type": "execute_result"
    }
   ],
   "source": [
    "import zeal.core as zc\n",
    "import zeal.rotations as zr\n",
    "\n",
    "p = zc.Player(weapon='torch', expertise=18)\n",
    "p.print_properties()\n",
    "t = zc.Target()\n",
    "t.print_properties()\n",
    "c = zc.CombatAnalyser(p, t)\n",
    "c.rank_actions()"
   ]
  },
  {
   "cell_type": "code",
   "execution_count": 2,
   "id": "3f777fb8",
   "metadata": {},
   "outputs": [
    {
     "name": "stdout",
     "output_type": "stream",
     "text": [
      "Target properties:\n",
      "--        base armor = 8800\n",
      "--    modified armor = 4790\n",
      "--             JotCr = True\n",
      "--   expose weakness = 1200 agi\n"
     ]
    },
    {
     "data": {
      "text/plain": [
       "{'naked_swing': 0.6220971565324761,\n",
       " 'sob_swing': 1.0,\n",
       " 'soc_swing': 0.9457905103892328,\n",
       " 'twist': 1.534741075335278,\n",
       " 'cs': 0.5046165199551642}"
      ]
     },
     "execution_count": 2,
     "metadata": {},
     "output_type": "execute_result"
    }
   ],
   "source": [
    "t2 = zc.Target(base_armor=8800, imp_ea=False)\n",
    "t2.print_properties()\n",
    "c2 = zc.CombatAnalyser(p, t2)\n",
    "c2.rank_actions()"
   ]
  },
  {
   "cell_type": "code",
   "execution_count": 4,
   "id": "3f6dffb0",
   "metadata": {},
   "outputs": [
    {
     "data": {
      "text/plain": [
       "{'naked_swing': 0.6978409298355416,\n",
       " 'sob_swing': 1.0,\n",
       " 'soc_swing': 0.956396969584237,\n",
       " 'twist': 1.4298760038215372,\n",
       " 'cs': 0.5664256618130245}"
      ]
     },
     "execution_count": 4,
     "metadata": {},
     "output_type": "execute_result"
    },
    {
     "data": {
      "text/plain": [
       "{'naked_swing': 0.7101824927676451,\n",
       " 'sob_swing': 1.0,\n",
       " 'soc_swing': 0.9589684257828687,\n",
       " 'twist': 1.405292743743049,\n",
       " 'cs': 0.5750829619836664}"
      ]
     },
     "execution_count": 4,
     "metadata": {},
     "output_type": "execute_result"
    }
   ],
   "source": [
    "p.expertise = 24\n",
    "c.rank_actions() \n",
    "p.expertise = 5\n",
    "c.rank_actions()"
   ]
  },
  {
   "cell_type": "code",
   "execution_count": null,
   "id": "8b2ef686",
   "metadata": {},
   "outputs": [],
   "source": []
  }
 ],
 "metadata": {
  "kernelspec": {
   "display_name": "zeal",
   "language": "python",
   "name": "zeal"
  },
  "language_info": {
   "codemirror_mode": {
    "name": "ipython",
    "version": 3
   },
   "file_extension": ".py",
   "mimetype": "text/x-python",
   "name": "python",
   "nbconvert_exporter": "python",
   "pygments_lexer": "ipython3",
   "version": "3.9.7"
  }
 },
 "nbformat": 4,
 "nbformat_minor": 5
}
