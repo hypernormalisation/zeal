{
 "cells": [
  {
   "cell_type": "markdown",
   "id": "0766404a",
   "metadata": {},
   "source": [
    "# Expertise in T6\n",
    "\n",
    "## The tl;dr\n",
    "\n",
    "*Regardless of your race or other gear* you can get rid of Shattrath Leggings/Clefthoof Hide Leggings *as soon as you get any of the following*:\n",
    "\n",
    "- Leggings of Divine Retribution\n",
    "- Bow-stitched Leggings\n",
    "- Legguards of Endless Rage\n",
    "\n",
    "(For Endless Rage, although this is barely an upgrade, it is an upgrade especially if you can now use Glyph of the Outcast instead of Glyph of Ferocity as your leg enchant.)\n",
    "\n",
    "If you want to understand this more fully, you can read on.\n",
    "\n",
    "## Expertise and Expertise Rating\n",
    "\n",
    "Each point of Expertise you have reduces your 6.5% chance to be dodged on a boss-lvl mob by 0.25%. Each point of Expertise rating on gear converts to Expertise at a 3.9:1 ratio.\n",
    "\n",
    "*Expertise rounds down to the nearest integer* - as an example:\n"
   ]
  },
  {
   "cell_type": "code",
   "execution_count": 3,
   "id": "a6710036",
   "metadata": {},
   "outputs": [
    {
     "ename": "NameError",
     "evalue": "name 'expertise_rating' is not defined",
     "output_type": "error",
     "traceback": [
      "\u001b[0;31m---------------------------------------------------------------------------\u001b[0m",
      "\u001b[0;31mNameError\u001b[0m                                 Traceback (most recent call last)",
      "\u001b[0;32m/tmp/ipykernel_3652/1735439850.py\u001b[0m in \u001b[0;36m<module>\u001b[0;34m\u001b[0m\n\u001b[1;32m     11\u001b[0m \u001b[0;31m# shat (22 rating) + shapeshifters (20) + searing grip (18)\u001b[0m\u001b[0;34m\u001b[0m\u001b[0;34m\u001b[0m\u001b[0m\n\u001b[1;32m     12\u001b[0m \u001b[0mmy_rating\u001b[0m \u001b[0;34m=\u001b[0m \u001b[0;36m22\u001b[0m \u001b[0;34m+\u001b[0m \u001b[0;36m20\u001b[0m \u001b[0;34m+\u001b[0m \u001b[0;36m18\u001b[0m\u001b[0;34m\u001b[0m\u001b[0;34m\u001b[0m\u001b[0m\n\u001b[0;32m---> 13\u001b[0;31m \u001b[0mprint_expertise_info\u001b[0m\u001b[0;34m(\u001b[0m\u001b[0mmy_rating\u001b[0m\u001b[0;34m)\u001b[0m\u001b[0;34m\u001b[0m\u001b[0;34m\u001b[0m\u001b[0m\n\u001b[0m",
      "\u001b[0;32m/tmp/ipykernel_3652/1735439850.py\u001b[0m in \u001b[0;36mprint_expertise_info\u001b[0;34m(rating)\u001b[0m\n\u001b[1;32m      3\u001b[0m \u001b[0;32mdef\u001b[0m \u001b[0mprint_expertise_info\u001b[0m\u001b[0;34m(\u001b[0m\u001b[0mrating\u001b[0m\u001b[0;34m)\u001b[0m\u001b[0;34m:\u001b[0m\u001b[0;34m\u001b[0m\u001b[0;34m\u001b[0m\u001b[0m\n\u001b[1;32m      4\u001b[0m     \u001b[0mexpertise_unrounded\u001b[0m \u001b[0;34m=\u001b[0m \u001b[0mrating\u001b[0m\u001b[0;34m/\u001b[0m\u001b[0;36m3.9\u001b[0m\u001b[0;34m\u001b[0m\u001b[0;34m\u001b[0m\u001b[0m\n\u001b[0;32m----> 5\u001b[0;31m     \u001b[0mexpertise\u001b[0m \u001b[0;34m=\u001b[0m \u001b[0mmath\u001b[0m\u001b[0;34m.\u001b[0m\u001b[0mfloor\u001b[0m\u001b[0;34m(\u001b[0m\u001b[0mexpertise_rating\u001b[0m\u001b[0;34m)\u001b[0m  \u001b[0;31m# rounds down to nearest integer\u001b[0m\u001b[0;34m\u001b[0m\u001b[0;34m\u001b[0m\u001b[0m\n\u001b[0m\u001b[1;32m      6\u001b[0m     \u001b[0mprint\u001b[0m\u001b[0;34m(\u001b[0m\u001b[0;34mf'Total rating = {rating}'\u001b[0m\u001b[0;34m)\u001b[0m\u001b[0;34m\u001b[0m\u001b[0;34m\u001b[0m\u001b[0m\n\u001b[1;32m      7\u001b[0m     \u001b[0mprint\u001b[0m\u001b[0;34m(\u001b[0m\u001b[0;34mf'Unrounded Expertise = {expertise_unrounded}'\u001b[0m\u001b[0;34m)\u001b[0m\u001b[0;34m\u001b[0m\u001b[0;34m\u001b[0m\u001b[0m\n",
      "\u001b[0;31mNameError\u001b[0m: name 'expertise_rating' is not defined"
     ]
    }
   ],
   "source": [
    "import math\n",
    "\n",
    "def print_expertise_info(rating):\n",
    "    expertise_unrounded = rating/3.9\n",
    "    expertise = math.floor(expertise_rating)  # rounds down to nearest integer\n",
    "    print(f'Total rating = {rating}')\n",
    "    print(f'Unrounded Expertise = {expertise_unrounded}')\n",
    "    print(f'Expertise gained = {expertise}')\n",
    "\n",
    "\n",
    "# shat (22 rating) + shapeshifters (20) + searing grip (18)\n",
    "my_rating = 22 + 20 + 18\n",
    "print_expertise_info(my_rating)"
   ]
  },
  {
   "cell_type": "code",
   "execution_count": null,
   "id": "2384c62e",
   "metadata": {},
   "outputs": [],
   "source": []
  }
 ],
 "metadata": {
  "kernelspec": {
   "display_name": "zeal",
   "language": "python",
   "name": "zeal"
  },
  "language_info": {
   "codemirror_mode": {
    "name": "ipython",
    "version": 3
   },
   "file_extension": ".py",
   "mimetype": "text/x-python",
   "name": "python",
   "nbconvert_exporter": "python",
   "pygments_lexer": "ipython3",
   "version": "3.9.7"
  }
 },
 "nbformat": 4,
 "nbformat_minor": 5
}
