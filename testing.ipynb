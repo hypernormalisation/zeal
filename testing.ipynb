{
 "cells": [
  {
   "cell_type": "code",
   "execution_count": 15,
   "id": "d55359da",
   "metadata": {},
   "outputs": [],
   "source": [
    "import matplotlib\n",
    "import matplotlib.pyplot as plt\n",
    "import numpy as np"
   ]
  },
  {
   "cell_type": "code",
   "execution_count": 4,
   "id": "911aed72",
   "metadata": {},
   "outputs": [],
   "source": [
    "# Funcs\n",
    "\n",
    "def get_d(ap):\n",
    "    median = (549. - 365) / 2\n",
    "    return (median + (ap*3.6)/14) * 1.06 * 1.03 * 1.02\n",
    "\n",
    "def get_phys_d(d, p_crit, p_dodge):\n",
    "    return ( d * ( (p_glance * f_glance) + (p_crit * f_crit ) + (1 - p_glance - p_crit - p_dodge) ) ) / (1 - p_dodge)\n"
   ]
  },
  {
   "cell_type": "code",
   "execution_count": 5,
   "id": "4065e3f7",
   "metadata": {},
   "outputs": [
    {
     "data": {
      "text/plain": [
       "675.1815977142858"
      ]
     },
     "execution_count": 5,
     "metadata": {},
     "output_type": "execute_result"
    }
   ],
   "source": [
    "# Constants\n",
    "\n",
    "p_glance = 0.24\n",
    "f_glance = 0.75\n",
    "f_crit = 2.06\n",
    "dodge_cap = 0.065\n",
    "\n",
    "crit_cap_no_expertise = 1 - dodge_cap - p_glance\n",
    "crit_cap_expertise_cap = 1 - p_glance\n",
    "\n",
    "# Test damage with 2k AP\n",
    "my_d = get_d(2000)\n",
    "\n",
    "test_crit = 0.3\n",
    "p_dodge = 0.065\n"
   ]
  },
  {
   "cell_type": "code",
   "execution_count": 14,
   "id": "ef88dab1",
   "metadata": {},
   "outputs": [
    {
     "name": "stdout",
     "output_type": "stream",
     "text": [
      "test crit rating = 0.3\n",
      "case 1 dodge chance = 0.065\n",
      "case 2 dodge chance = 0.005\n",
      "average attack damage on a hit roll: 675.1815977142858\n",
      "p_dodge = 0.065 case 1, d_phys = 861.488391522078\n",
      "p_dodge = 0.005 case 2, d_phys = 850.253810990955\n",
      "projected autoattack damage case 1 = 805.491646073143\n",
      "projected autoattack damage case 2 = 846.0025419360002\n"
     ]
    }
   ],
   "source": [
    "# Compare the projected autoattack damage given a certain crit under two different dodge scenarios.\n",
    "\n",
    "test_crit = 0.30\n",
    "p_dodge1 = 0.065\n",
    "p_dodge2 = 0.005\n",
    "\n",
    "print(f'test crit rating = {test_crit}')\n",
    "print(f'case 1 dodge chance = {p_dodge1}')\n",
    "print(f'case 2 dodge chance = {p_dodge2}')\n",
    "\n",
    "my_d = get_d(2000)\n",
    "print(f'average attack damage on a hit roll: {my_d}')\n",
    "\n",
    "dodge1_phys_d = get_phys_d(my_d, test_crit, p_dodge1)\n",
    "dodge2_phys_d = get_phys_d(my_d, test_crit, p_dodge2)\n",
    "\n",
    "print(f'p_dodge = {p_dodge1} case 1, d_phys = {dodge1_phys_d}')\n",
    "print(f'p_dodge = {p_dodge2} case 2, d_phys = {dodge2_phys_d}')\n",
    "\n",
    "ave_d_1 = dodge1_phys_d * (1 - p_dodge1)\n",
    "ave_d_2 = dodge2_phys_d * (1 - p_dodge2)\n",
    "\n",
    "print(f'projected autoattack damage case 1 = {ave_d_1}')\n",
    "print(f'projected autoattack damage case 2 = {ave_d_2}')"
   ]
  },
  {
   "cell_type": "code",
   "execution_count": 40,
   "id": "86135ad8",
   "metadata": {},
   "outputs": [
    {
     "data": {
      "text/plain": [
       "[<matplotlib.lines.Line2D at 0x7f721e564e50>]"
      ]
     },
     "execution_count": 40,
     "metadata": {},
     "output_type": "execute_result"
    },
    {
     "data": {
      "text/plain": [
       "Text(0.5, 1.0, 'Autoattack damage with WF, crit chance = 0.15')"
      ]
     },
     "execution_count": 40,
     "metadata": {},
     "output_type": "execute_result"
    },
    {
     "data": {
      "text/plain": [
       "Text(0, 0.5, 'Projected damage')"
      ]
     },
     "execution_count": 40,
     "metadata": {},
     "output_type": "execute_result"
    },
    {
     "data": {
      "text/plain": [
       "Text(0.5, 0, 'Dodge Chance')"
      ]
     },
     "execution_count": 40,
     "metadata": {},
     "output_type": "execute_result"
    },
    {
     "data": {
      "image/png": "[encoded data removed]",
      "text/plain": [
       "<Figure size 576x360 with 1 Axes>"
      ]
     },
     "metadata": {
      "needs_background": "light"
     },
     "output_type": "display_data"
    }
   ],
   "source": [
    "# Creating vectors X and Y\n",
    "p_crit = 0.15\n",
    "\n",
    "x = np.linspace(0, 0.08, 100)\n",
    "y = (1 - x + 0.2*(1 - 2*x + x**2)) * ((p_glance*f_glance + p_crit*f_crit + (1 - p_glance-x - p_crit))/(1-x))\n",
    " \n",
    "fig = plt.figure(figsize = (8, 5))\n",
    "# Create the plot\n",
    "plt.plot(x, y)\n",
    "plt.title(f'Autoattack damage with WF, crit chance = {p_crit}')\n",
    "plt.ylabel('Projected damage')\n",
    "plt.xlabel('Dodge Chance')\n",
    "\n",
    "# Show the plot\n",
    "plt.show()"
   ]
  },
  {
   "cell_type": "code",
   "execution_count": 41,
   "id": "56f7188c",
   "metadata": {},
   "outputs": [],
   "source": [
    "def get_proj_dam(p_crit, p_dodge):\n",
    "    return (1 - p_dodge + 0.2*(1 - 2*p_dodge + p_dodge**2)) * ((p_glance*f_glance + p_crit*f_crit + (1 - p_glance - p_dodge - p_crit))/(1-p_dodge))\n"
   ]
  },
  {
   "cell_type": "code",
   "execution_count": 45,
   "id": "275d105b",
   "metadata": {},
   "outputs": [
    {
     "data": {
      "text/plain": [
       "1.2026768642447419"
      ]
     },
     "execution_count": 45,
     "metadata": {},
     "output_type": "execute_result"
    }
   ],
   "source": [
    "dam_crit30_dodge0 = get_proj_dam(0.3, 0.0)\n",
    "dam_crit10_dodge0 = get_proj_dam(0.1, 0.0)\n",
    "\n",
    "dam_crit30_dodge0 / dam_crit10_dodge0"
   ]
  },
  {
   "cell_type": "code",
   "execution_count": 48,
   "id": "a8f92d68",
   "metadata": {},
   "outputs": [
    {
     "data": {
      "text/plain": [
       "1.4053537284894837"
      ]
     },
     "execution_count": 48,
     "metadata": {},
     "output_type": "execute_result"
    }
   ],
   "source": [
    "dam_crit50_dodge0 = get_proj_dam(0.5, 0.0)\n",
    "dam_crit10_dodge0 = get_proj_dam(0.1, 0.0)\n",
    "\n",
    "dam_crit50_dodge0 / dam_crit10_dodge0"
   ]
  },
  {
   "cell_type": "code",
   "execution_count": 49,
   "id": "4884b540",
   "metadata": {},
   "outputs": [
    {
     "data": {
      "text/plain": [
       "1.4300202839756593"
      ]
     },
     "execution_count": 49,
     "metadata": {},
     "output_type": "execute_result"
    }
   ],
   "source": [
    "dam_crit50_dodge06 = get_proj_dam(0.5, 0.06)\n",
    "dam_crit10_dodge06 = get_proj_dam(0.1, 0.06)\n",
    "\n",
    "dam_crit50_dodge06 / dam_crit10_dodge06"
   ]
  },
  {
   "cell_type": "code",
   "execution_count": 50,
   "id": "7c590ac1",
   "metadata": {},
   "outputs": [
    {
     "data": {
      "text/plain": [
       "0.9827272727272728"
      ]
     },
     "execution_count": 50,
     "metadata": {},
     "output_type": "execute_result"
    }
   ],
   "source": [
    "1.4053 / 1.43"
   ]
  },
  {
   "cell_type": "code",
   "execution_count": 53,
   "id": "6b9a2b0b",
   "metadata": {},
   "outputs": [
    {
     "data": {
      "text/plain": [
       "0.58656"
      ]
     },
     "execution_count": 53,
     "metadata": {},
     "output_type": "execute_result"
    }
   ],
   "source": [
    "dam_crit10_dodge06 = get_proj_dam(0.4, 0.80)\n",
    "dam_crit10_dodge06"
   ]
  },
  {
   "cell_type": "code",
   "execution_count": null,
   "id": "0bcc40e0",
   "metadata": {},
   "outputs": [],
   "source": []
  }
 ],
 "metadata": {
  "kernelspec": {
   "display_name": "retational",
   "language": "python",
   "name": "retational"
  },
  "language_info": {
   "codemirror_mode": {
    "name": "ipython",
    "version": 3
   },
   "file_extension": ".py",
   "mimetype": "text/x-python",
   "name": "python",
   "nbconvert_exporter": "python",
   "pygments_lexer": "ipython3",
   "version": "3.9.7"
  }
 },
 "nbformat": 4,
 "nbformat_minor": 5
}
