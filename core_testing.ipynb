{
 "cells": [
  {
   "cell_type": "code",
   "execution_count": 1,
   "id": "f8bd0914",
   "metadata": {},
   "outputs": [],
   "source": [
    "import zeal"
   ]
  },
  {
   "cell_type": "code",
   "execution_count": 2,
   "id": "957e9055",
   "metadata": {},
   "outputs": [],
   "source": [
    "from zeal.core import Player"
   ]
  },
  {
   "cell_type": "code",
   "execution_count": 3,
   "id": "ad23c245",
   "metadata": {},
   "outputs": [],
   "source": [
    "p = Player(expertise=15, ap=2000, weapon='LHE')"
   ]
  },
  {
   "cell_type": "code",
   "execution_count": 4,
   "id": "2e74c57e",
   "metadata": {},
   "outputs": [
    {
     "data": {
      "text/plain": [
       "15"
      ]
     },
     "execution_count": 4,
     "metadata": {},
     "output_type": "execute_result"
    }
   ],
   "source": [
    "p.expertise\n"
   ]
  },
  {
   "cell_type": "code",
   "execution_count": 5,
   "id": "ede29f38",
   "metadata": {},
   "outputs": [
    {
     "data": {
      "text/plain": [
       "0.42"
      ]
     },
     "execution_count": 5,
     "metadata": {},
     "output_type": "execute_result"
    }
   ],
   "source": [
    "p.soc_proc_chance"
   ]
  },
  {
   "cell_type": "code",
   "execution_count": 6,
   "id": "2ac029df",
   "metadata": {},
   "outputs": [
    {
     "data": {
      "text/plain": [
       "0.0275"
      ]
     },
     "execution_count": 6,
     "metadata": {},
     "output_type": "execute_result"
    }
   ],
   "source": [
    "p.dodge_chance"
   ]
  },
  {
   "cell_type": "code",
   "execution_count": null,
   "id": "48fffcb7",
   "metadata": {},
   "outputs": [],
   "source": []
  }
 ],
 "metadata": {
  "kernelspec": {
   "display_name": "zeal",
   "language": "python",
   "name": "zeal"
  },
  "language_info": {
   "codemirror_mode": {
    "name": "ipython",
    "version": 3
   },
   "file_extension": ".py",
   "mimetype": "text/x-python",
   "name": "python",
   "nbconvert_exporter": "python",
   "pygments_lexer": "ipython3",
   "version": "3.9.7"
  }
 },
 "nbformat": 4,
 "nbformat_minor": 5
}
