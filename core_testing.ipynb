{
 "cells": [
  {
   "cell_type": "code",
   "execution_count": 1,
   "id": "f8bd0914",
   "metadata": {},
   "outputs": [],
   "source": [
    "import zeal"
   ]
  },
  {
   "cell_type": "code",
   "execution_count": 2,
   "id": "957e9055",
   "metadata": {},
   "outputs": [],
   "source": [
    "from zeal.core import Player, Target, CombatAnalyser"
   ]
  },
  {
   "cell_type": "code",
   "execution_count": 3,
   "id": "ad23c245",
   "metadata": {},
   "outputs": [],
   "source": [
    "p = Player(expertise=14, ap=3200, weapon='torch', arm_pen=0)"
   ]
  },
  {
   "cell_type": "code",
   "execution_count": 4,
   "id": "2e74c57e",
   "metadata": {},
   "outputs": [
    {
     "data": {
      "text/plain": [
       "14"
      ]
     },
     "execution_count": 4,
     "metadata": {},
     "output_type": "execute_result"
    },
    {
     "data": {
      "text/plain": [
       "0.03"
      ]
     },
     "execution_count": 4,
     "metadata": {},
     "output_type": "execute_result"
    },
    {
     "data": {
      "text/plain": [
       "0.4433333333333333"
      ]
     },
     "execution_count": 4,
     "metadata": {},
     "output_type": "execute_result"
    }
   ],
   "source": [
    "p.expertise\n",
    "p.dodge_chance\n",
    "p.soc_proc_chance"
   ]
  },
  {
   "cell_type": "code",
   "execution_count": 5,
   "id": "48fffcb7",
   "metadata": {},
   "outputs": [
    {
     "data": {
      "text/plain": [
       "1715"
      ]
     },
     "execution_count": 5,
     "metadata": {},
     "output_type": "execute_result"
    }
   ],
   "source": [
    "t = Target()\n",
    "t.modified_armor\n"
   ]
  },
  {
   "cell_type": "code",
   "execution_count": 6,
   "id": "9d8dab56",
   "metadata": {},
   "outputs": [
    {
     "data": {
      "text/plain": [
       "1715"
      ]
     },
     "execution_count": 6,
     "metadata": {},
     "output_type": "execute_result"
    },
    {
     "data": {
      "text/plain": [
       "3500.0"
      ]
     },
     "execution_count": 6,
     "metadata": {},
     "output_type": "execute_result"
    },
    {
     "data": {
      "text/plain": [
       "0.8565217391304347"
      ]
     },
     "execution_count": 6,
     "metadata": {},
     "output_type": "execute_result"
    },
    {
     "data": {
      "text/plain": [
       "1.1136360000000003"
      ]
     },
     "execution_count": 6,
     "metadata": {},
     "output_type": "execute_result"
    }
   ],
   "source": [
    "c = CombatAnalyser(p, t)\n",
    "c.final_armor\n",
    "c.final_ap\n",
    "c.phys_dmg_scale_factor\n",
    "c.global_dmg_factor"
   ]
  },
  {
   "cell_type": "code",
   "execution_count": 7,
   "id": "eee2f222",
   "metadata": {},
   "outputs": [
    {
     "data": {
      "text/plain": [
       "1.2878350515463919"
      ]
     },
     "execution_count": 7,
     "metadata": {},
     "output_type": "execute_result"
    },
    {
     "data": {
      "text/plain": [
       "1.0960937886050304"
      ]
     },
     "execution_count": 7,
     "metadata": {},
     "output_type": "execute_result"
    },
    {
     "data": {
      "text/plain": [
       "1215.5805780756002"
      ]
     },
     "execution_count": 7,
     "metadata": {},
     "output_type": "execute_result"
    },
    {
     "data": {
      "text/plain": [
       "1627.9055101588438"
      ]
     },
     "execution_count": 7,
     "metadata": {},
     "output_type": "execute_result"
    },
    {
     "data": {
      "text/plain": [
       "780.1810213869304"
      ]
     },
     "execution_count": 7,
     "metadata": {},
     "output_type": "execute_result"
    },
    {
     "data": {
      "text/plain": [
       "1783.786398492522"
      ]
     },
     "execution_count": 7,
     "metadata": {},
     "output_type": "execute_result"
    }
   ],
   "source": [
    "c.autoattack_outcomes_factor\n",
    "c.wf_factor\n",
    "c.soc_proc_dmg_normal_hit\n",
    "c.soc_proc_dmg\n",
    "c.sob_proc_dmg\n",
    "c.d_crusader_strike"
   ]
  },
  {
   "cell_type": "code",
   "execution_count": 8,
   "id": "76095acb",
   "metadata": {},
   "outputs": [
    {
     "data": {
      "text/plain": [
       "1722.390904562745"
      ]
     },
     "execution_count": 8,
     "metadata": {},
     "output_type": "execute_result"
    },
    {
     "data": {
      "text/plain": [
       "2088.6438871387036"
      ]
     },
     "execution_count": 8,
     "metadata": {},
     "output_type": "execute_result"
    }
   ],
   "source": [
    "c.get_naked_swing_dmg(wf=False)\n",
    "c.get_naked_swing_dmg()"
   ]
  },
  {
   "cell_type": "code",
   "execution_count": 9,
   "id": "6c5346ce",
   "metadata": {},
   "outputs": [
    {
     "data": {
      "text/plain": [
       "2401.4429284614935"
      ]
     },
     "execution_count": 9,
     "metadata": {},
     "output_type": "execute_result"
    },
    {
     "data": {
      "text/plain": [
       "2841.0290026050243"
      ]
     },
     "execution_count": 9,
     "metadata": {},
     "output_type": "execute_result"
    }
   ],
   "source": [
    "c.get_soc_swing_dmg(wf=False)\n",
    "c.get_soc_swing_dmg()"
   ]
  },
  {
   "cell_type": "code",
   "execution_count": 10,
   "id": "f5fdc728",
   "metadata": {},
   "outputs": [
    {
     "data": {
      "text/plain": [
       "2456.4632275857075"
      ]
     },
     "execution_count": 10,
     "metadata": {},
     "output_type": "execute_result"
    },
    {
     "data": {
      "text/plain": [
       "2965.126240828121"
      ]
     },
     "execution_count": 10,
     "metadata": {},
     "output_type": "execute_result"
    }
   ],
   "source": [
    "c.get_sob_swing_dmg(wf=False)\n",
    "c.get_sob_swing_dmg()"
   ]
  },
  {
   "cell_type": "code",
   "execution_count": 11,
   "id": "4ead3869",
   "metadata": {},
   "outputs": [
    {
     "data": {
      "text/plain": [
       "3451.1908194617645"
      ]
     },
     "execution_count": 11,
     "metadata": {},
     "output_type": "execute_result"
    },
    {
     "data": {
      "text/plain": [
       "4202.163490761324"
      ]
     },
     "execution_count": 11,
     "metadata": {},
     "output_type": "execute_result"
    }
   ],
   "source": [
    "c.get_twist_dmg(wf=False)\n",
    "c.get_twist_dmg()"
   ]
  },
  {
   "cell_type": "code",
   "execution_count": 12,
   "id": "d52e5479",
   "metadata": {},
   "outputs": [],
   "source": [
    "import numpy as np\n",
    "import matplotlib\n",
    "import matplotlib.pyplot as plt\n",
    "from matplotlib.figure import Figure\n",
    "from matplotlib.backends.backend_agg import FigureCanvasAgg as FigureCanvas\n",
    "\n",
    "expertises = np.linspace(0, 26, num=27)\n",
    "\n",
    "# figs = []\n",
    "# fig, axs = plt.subplots(2, 2, constrained_layout=True)\n",
    "\n",
    "# counter_dict = {\n",
    "#     1: [0, 0],\n",
    "#     2: [0, 1],\n",
    "#     3: [1, 0],\n",
    "#     4: [1, 1],\n",
    "# }\n",
    "\n",
    "# plt.rcParams['axes.xmargin'] = 0\n",
    "# plt.rcParams['axes.ymargin'] = 0\n",
    "\n",
    "# counter = 1\n",
    "# for armor in [6200, 7700]:\n",
    "#     for weapon in ['twinblade', 'torch']:\n",
    "#         ratios = []\n",
    "#         t = Target(base_armor=armor)\n",
    "#         for expertise in expertises:\n",
    "#             p = Player(expertise=expertise, ap=3200, weapon=weapon)\n",
    "#             c = CombatAnalyser(p, t)\n",
    "#             ratios.append(c.get_sob_swing_dmg() / c.get_soc_swing_dmg())\n",
    "\n",
    "# #         fig = plt.figure(figsize = (8, 5))\n",
    "        \n",
    "#         subplot = axs[counter_dict[counter][0], counter_dict[counter][1]]\n",
    "#         subplot.plot(expertises, ratios)\n",
    "#         subplot.set_title(f'{weapon}, boss armor={armor}')\n",
    "#         subplot.grid(which='both')\n",
    "# #         subplot.ylabel('Ratio')\n",
    "# #         subplot.xlabel('Expertise')\n",
    "        \n",
    "# #         plt.savefig(f'{weapon}_swingratios_armor{armor}.png', facecolor='white', transparent=False)\n",
    "#         counter += 1\n",
    "    \n",
    "# for ax in axs.flat:\n",
    "#     ax.set(xlabel='Expertise', ylabel='sob/soc ratio')\n",
    "#     ax.set_xlim(0,26)\n",
    "\n",
    "# fig.suptitle('SoB/SoC swing damages vs expertise', fontsize=16)\n",
    "# # fig.tight_layout()\n",
    "# fig.set_size_inches(12.9, 8.5)\n",
    "# fig.savefig('sob_vs_soc.png', facecolor='white', transparent=False)"
   ]
  },
  {
   "cell_type": "code",
   "execution_count": null,
   "id": "8a057c9c",
   "metadata": {},
   "outputs": [],
   "source": []
  }
 ],
 "metadata": {
  "kernelspec": {
   "display_name": "zeal",
   "language": "python",
   "name": "zeal"
  },
  "language_info": {
   "codemirror_mode": {
    "name": "ipython",
    "version": 3
   },
   "file_extension": ".py",
   "mimetype": "text/x-python",
   "name": "python",
   "nbconvert_exporter": "python",
   "pygments_lexer": "ipython3",
   "version": "3.9.7"
  }
 },
 "nbformat": 4,
 "nbformat_minor": 5
}
