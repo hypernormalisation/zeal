{
 "cells": [
  {
   "cell_type": "code",
   "execution_count": 1,
   "id": "f8bd0914",
   "metadata": {},
   "outputs": [],
   "source": [
    "import zeal"
   ]
  },
  {
   "cell_type": "code",
   "execution_count": 15,
   "id": "957e9055",
   "metadata": {},
   "outputs": [],
   "source": [
    "from zeal.core import Player, Target, CombatAnalyser, Weapon"
   ]
  },
  {
   "cell_type": "code",
   "execution_count": 3,
   "id": "ad23c245",
   "metadata": {},
   "outputs": [],
   "source": [
    "p = Player(expertise=14, ap=3200, weapon='torch', arm_pen=0)"
   ]
  },
  {
   "cell_type": "code",
   "execution_count": 4,
   "id": "2e74c57e",
   "metadata": {},
   "outputs": [
    {
     "data": {
      "text/plain": [
       "14"
      ]
     },
     "execution_count": 4,
     "metadata": {},
     "output_type": "execute_result"
    },
    {
     "data": {
      "text/plain": [
       "0.03"
      ]
     },
     "execution_count": 4,
     "metadata": {},
     "output_type": "execute_result"
    },
    {
     "data": {
      "text/plain": [
       "0.4433333333333333"
      ]
     },
     "execution_count": 4,
     "metadata": {},
     "output_type": "execute_result"
    }
   ],
   "source": [
    "p.expertise\n",
    "p.dodge_chance\n",
    "p.soc_proc_chance"
   ]
  },
  {
   "cell_type": "code",
   "execution_count": 5,
   "id": "48fffcb7",
   "metadata": {},
   "outputs": [
    {
     "data": {
      "text/plain": [
       "1715"
      ]
     },
     "execution_count": 5,
     "metadata": {},
     "output_type": "execute_result"
    }
   ],
   "source": [
    "t = Target()\n",
    "t.modified_armor\n"
   ]
  },
  {
   "cell_type": "code",
   "execution_count": 6,
   "id": "86b9fb3d",
   "metadata": {},
   "outputs": [
    {
     "data": {
      "text/plain": [
       "1715"
      ]
     },
     "execution_count": 6,
     "metadata": {},
     "output_type": "execute_result"
    },
    {
     "data": {
      "text/plain": [
       "3500.0"
      ]
     },
     "execution_count": 6,
     "metadata": {},
     "output_type": "execute_result"
    },
    {
     "data": {
      "text/plain": [
       "0.8565217391304347"
      ]
     },
     "execution_count": 6,
     "metadata": {},
     "output_type": "execute_result"
    },
    {
     "data": {
      "text/plain": [
       "1.1136360000000003"
      ]
     },
     "execution_count": 6,
     "metadata": {},
     "output_type": "execute_result"
    }
   ],
   "source": [
    "c = CombatAnalyser(p, t)\n",
    "c.final_armor\n",
    "c.final_ap\n",
    "c.phys_dmg_scale_factor\n",
    "c.global_dmg_factor"
   ]
  },
  {
   "cell_type": "code",
   "execution_count": 7,
   "id": "f470a3d0",
   "metadata": {},
   "outputs": [
    {
     "data": {
      "text/plain": [
       "1.2878350515463919"
      ]
     },
     "execution_count": 7,
     "metadata": {},
     "output_type": "execute_result"
    },
    {
     "data": {
      "text/plain": [
       "1.0960937886050304"
      ]
     },
     "execution_count": 7,
     "metadata": {},
     "output_type": "execute_result"
    },
    {
     "data": {
      "text/plain": [
       "1215.5805780756002"
      ]
     },
     "execution_count": 7,
     "metadata": {},
     "output_type": "execute_result"
    },
    {
     "data": {
      "text/plain": [
       "1627.9055101588438"
      ]
     },
     "execution_count": 7,
     "metadata": {},
     "output_type": "execute_result"
    },
    {
     "data": {
      "text/plain": [
       "780.1810213869304"
      ]
     },
     "execution_count": 7,
     "metadata": {},
     "output_type": "execute_result"
    },
    {
     "data": {
      "text/plain": [
       "1750.102598189915"
      ]
     },
     "execution_count": 7,
     "metadata": {},
     "output_type": "execute_result"
    }
   ],
   "source": [
    "c.autoattack_outcomes_factor\n",
    "c.wf_factor\n",
    "c.soc_proc_dmg_normal_hit\n",
    "c.soc_proc_dmg\n",
    "c.sob_proc_dmg\n",
    "c.d_crusader_strike"
   ]
  },
  {
   "cell_type": "code",
   "execution_count": 8,
   "id": "04c612e1",
   "metadata": {},
   "outputs": [
    {
     "data": {
      "text/plain": [
       "1722.390904562745"
      ]
     },
     "execution_count": 8,
     "metadata": {},
     "output_type": "execute_result"
    },
    {
     "data": {
      "text/plain": [
       "2088.6438871387036"
      ]
     },
     "execution_count": 8,
     "metadata": {},
     "output_type": "execute_result"
    }
   ],
   "source": [
    "c.get_naked_swing_dmg(wf=False)\n",
    "c.get_naked_swing_dmg()"
   ]
  },
  {
   "cell_type": "code",
   "execution_count": 9,
   "id": "d24d7b87",
   "metadata": {},
   "outputs": [
    {
     "data": {
      "text/plain": [
       "2401.4429284614935"
      ]
     },
     "execution_count": 9,
     "metadata": {},
     "output_type": "execute_result"
    },
    {
     "data": {
      "text/plain": [
       "2841.0290026050243"
      ]
     },
     "execution_count": 9,
     "metadata": {},
     "output_type": "execute_result"
    }
   ],
   "source": [
    "c.get_soc_swing_dmg(wf=False)\n",
    "c.get_soc_swing_dmg()"
   ]
  },
  {
   "cell_type": "code",
   "execution_count": 10,
   "id": "25401e2c",
   "metadata": {},
   "outputs": [
    {
     "data": {
      "text/plain": [
       "2456.4632275857075"
      ]
     },
     "execution_count": 10,
     "metadata": {},
     "output_type": "execute_result"
    },
    {
     "data": {
      "text/plain": [
       "2965.126240828121"
      ]
     },
     "execution_count": 10,
     "metadata": {},
     "output_type": "execute_result"
    }
   ],
   "source": [
    "c.get_sob_swing_dmg(wf=False)\n",
    "c.get_sob_swing_dmg()"
   ]
  },
  {
   "cell_type": "code",
   "execution_count": 11,
   "id": "f47e2d07",
   "metadata": {},
   "outputs": [
    {
     "data": {
      "text/plain": [
       "3451.1908194617645"
      ]
     },
     "execution_count": 11,
     "metadata": {},
     "output_type": "execute_result"
    },
    {
     "data": {
      "text/plain": [
       "4202.163490761324"
      ]
     },
     "execution_count": 11,
     "metadata": {},
     "output_type": "execute_result"
    }
   ],
   "source": [
    "c.get_twist_dmg(wf=False)\n",
    "c.get_twist_dmg()"
   ]
  },
  {
   "cell_type": "code",
   "execution_count": 12,
   "id": "68da3052",
   "metadata": {},
   "outputs": [],
   "source": [
    "import numpy as np\n",
    "import matplotlib\n",
    "import matplotlib.pyplot as plt\n",
    "from matplotlib.figure import Figure\n",
    "from matplotlib.backends.backend_agg import FigureCanvasAgg as FigureCanvas\n",
    "\n",
    "expertises = np.linspace(0, 26, num=27)\n",
    "\n",
    "# figs = []\n",
    "# fig, axs = plt.subplots(2, 2, constrained_layout=True)\n",
    "\n",
    "# counter_dict = {\n",
    "#     1: [0, 0],\n",
    "#     2: [0, 1],\n",
    "#     3: [1, 0],\n",
    "#     4: [1, 1],\n",
    "# }\n",
    "\n",
    "# plt.rcParams['axes.xmargin'] = 0\n",
    "# plt.rcParams['axes.ymargin'] = 0\n",
    "\n",
    "# counter = 1\n",
    "# for armor in [6200, 7700]:\n",
    "#     for weapon in ['twinblade', 'torch']:\n",
    "#         ratios = []\n",
    "#         t = Target(base_armor=armor)\n",
    "#         for expertise in expertises:\n",
    "#             p = Player(expertise=expertise, ap=3200, weapon=weapon)\n",
    "#             c = CombatAnalyser(p, t)\n",
    "#             ratios.append(c.get_sob_swing_dmg() / c.get_soc_swing_dmg())\n",
    "\n",
    "# #         fig = plt.figure(figsize = (8, 5))\n",
    "        \n",
    "#         subplot = axs[counter_dict[counter][0], counter_dict[counter][1]]\n",
    "#         subplot.plot(expertises, ratios)\n",
    "#         subplot.set_title(f'{weapon}, boss armor={armor}')\n",
    "#         subplot.grid(which='both')\n",
    "# #         subplot.ylabel('Ratio')\n",
    "# #         subplot.xlabel('Expertise')\n",
    "        \n",
    "# #         plt.savefig(f'{weapon}_swingratios_armor{armor}.png', facecolor='white', transparent=False)\n",
    "#         counter += 1\n",
    "    \n",
    "# for ax in axs.flat:\n",
    "#     ax.set(xlabel='Expertise', ylabel='sob/soc ratio')\n",
    "#     ax.set_xlim(0,26)\n",
    "\n",
    "# fig.suptitle('SoB/SoC swing damages vs expertise', fontsize=16)\n",
    "# # fig.tight_layout()\n",
    "# fig.set_size_inches(12.9, 8.5)\n",
    "# fig.savefig('sob_vs_soc.png', facecolor='white', transparent=False)"
   ]
  },
  {
   "cell_type": "code",
   "execution_count": 14,
   "id": "44f3960f",
   "metadata": {},
   "outputs": [
    {
     "data": {
      "text/plain": [
       "[<matplotlib.lines.Line2D at 0x7f26e37d6130>]"
      ]
     },
     "execution_count": 14,
     "metadata": {},
     "output_type": "execute_result"
    },
    {
     "data": {
      "text/plain": [
       "Text(0.5, 1.0, 'twinblade, boss armor=6200')"
      ]
     },
     "execution_count": 14,
     "metadata": {},
     "output_type": "execute_result"
    },
    {
     "data": {
      "text/plain": [
       "[Text(0.5, 0, 'Expertise'), Text(0, 0.5, 'SoB+CS/twist ratio')]"
      ]
     },
     "execution_count": 14,
     "metadata": {},
     "output_type": "execute_result"
    },
    {
     "data": {
      "text/plain": [
       "(0.0, 26.0)"
      ]
     },
     "execution_count": 14,
     "metadata": {},
     "output_type": "execute_result"
    },
    {
     "data": {
      "text/plain": [
       "[<matplotlib.lines.Line2D at 0x7f26e382d700>]"
      ]
     },
     "execution_count": 14,
     "metadata": {},
     "output_type": "execute_result"
    },
    {
     "data": {
      "text/plain": [
       "Text(0.5, 1.0, 'torch, boss armor=6200')"
      ]
     },
     "execution_count": 14,
     "metadata": {},
     "output_type": "execute_result"
    },
    {
     "data": {
      "text/plain": [
       "[Text(0.5, 0, 'Expertise'), Text(0, 0.5, 'SoB+CS/twist ratio')]"
      ]
     },
     "execution_count": 14,
     "metadata": {},
     "output_type": "execute_result"
    },
    {
     "data": {
      "text/plain": [
       "(0.0, 26.0)"
      ]
     },
     "execution_count": 14,
     "metadata": {},
     "output_type": "execute_result"
    },
    {
     "data": {
      "text/plain": [
       "[<matplotlib.lines.Line2D at 0x7f26e38c84c0>]"
      ]
     },
     "execution_count": 14,
     "metadata": {},
     "output_type": "execute_result"
    },
    {
     "data": {
      "text/plain": [
       "Text(0.5, 1.0, 'twinblade, boss armor=7700')"
      ]
     },
     "execution_count": 14,
     "metadata": {},
     "output_type": "execute_result"
    },
    {
     "data": {
      "text/plain": [
       "[Text(0.5, 0, 'Expertise'), Text(0, 0.5, 'SoB+CS/twist ratio')]"
      ]
     },
     "execution_count": 14,
     "metadata": {},
     "output_type": "execute_result"
    },
    {
     "data": {
      "text/plain": [
       "(0.0, 26.0)"
      ]
     },
     "execution_count": 14,
     "metadata": {},
     "output_type": "execute_result"
    },
    {
     "data": {
      "text/plain": [
       "[<matplotlib.lines.Line2D at 0x7f26e37d65e0>]"
      ]
     },
     "execution_count": 14,
     "metadata": {},
     "output_type": "execute_result"
    },
    {
     "data": {
      "text/plain": [
       "Text(0.5, 1.0, 'torch, boss armor=7700')"
      ]
     },
     "execution_count": 14,
     "metadata": {},
     "output_type": "execute_result"
    },
    {
     "data": {
      "text/plain": [
       "[Text(0.5, 0, 'Expertise'), Text(0, 0.5, 'SoB+CS/twist ratio')]"
      ]
     },
     "execution_count": 14,
     "metadata": {},
     "output_type": "execute_result"
    },
    {
     "data": {
      "text/plain": [
       "(0.0, 26.0)"
      ]
     },
     "execution_count": 14,
     "metadata": {},
     "output_type": "execute_result"
    },
    {
     "data": {
      "text/plain": [
       "[Text(0.5, 0, 'Expertise'), Text(0, 0.5, 'SoB+CS/twist ratio')]"
      ]
     },
     "execution_count": 14,
     "metadata": {},
     "output_type": "execute_result"
    },
    {
     "data": {
      "text/plain": [
       "(0.0, 26.0)"
      ]
     },
     "execution_count": 14,
     "metadata": {},
     "output_type": "execute_result"
    },
    {
     "data": {
      "text/plain": [
       "[Text(0.5, 0, 'Expertise'), Text(0, 0.5, 'SoB+CS/twist ratio')]"
      ]
     },
     "execution_count": 14,
     "metadata": {},
     "output_type": "execute_result"
    },
    {
     "data": {
      "text/plain": [
       "(0.0, 26.0)"
      ]
     },
     "execution_count": 14,
     "metadata": {},
     "output_type": "execute_result"
    },
    {
     "data": {
      "text/plain": [
       "[Text(0.5, 0, 'Expertise'), Text(0, 0.5, 'SoB+CS/twist ratio')]"
      ]
     },
     "execution_count": 14,
     "metadata": {},
     "output_type": "execute_result"
    },
    {
     "data": {
      "text/plain": [
       "(0.0, 26.0)"
      ]
     },
     "execution_count": 14,
     "metadata": {},
     "output_type": "execute_result"
    },
    {
     "data": {
      "text/plain": [
       "[Text(0.5, 0, 'Expertise'), Text(0, 0.5, 'SoB+CS/twist ratio')]"
      ]
     },
     "execution_count": 14,
     "metadata": {},
     "output_type": "execute_result"
    },
    {
     "data": {
      "text/plain": [
       "(0.0, 26.0)"
      ]
     },
     "execution_count": 14,
     "metadata": {},
     "output_type": "execute_result"
    },
    {
     "data": {
      "text/plain": [
       "Text(0.5, 0.98, 'SoB+CS / twist, as func of expertise')"
      ]
     },
     "execution_count": 14,
     "metadata": {},
     "output_type": "execute_result"
    },
    {
     "name": "stderr",
     "output_type": "stream",
     "text": [
      "findfont: Font family ['normal'] not found. Falling back to DejaVu Sans.\n",
      "findfont: Font family ['normal'] not found. Falling back to DejaVu Sans.\n",
      "findfont: Font family ['normal'] not found. Falling back to DejaVu Sans.\n"
     ]
    },
    {
     "data": {
      "image/png": "[encoded data removed]",
      "text/plain": [
       "<Figure size 928.8x612 with 4 Axes>"
      ]
     },
     "metadata": {
      "needs_background": "light"
     },
     "output_type": "display_data"
    }
   ],
   "source": [
    "expertises = np.linspace(0, 26, num=27)\n",
    "\n",
    "figs = []\n",
    "fig, axs = plt.subplots(2, 2, constrained_layout=True)\n",
    "\n",
    "counter_dict = {\n",
    "    1: [0, 0],\n",
    "    2: [0, 1],\n",
    "    3: [1, 0],\n",
    "    4: [1, 1],\n",
    "}\n",
    "\n",
    "plt.rcParams['axes.xmargin'] = 0\n",
    "plt.rcParams['axes.ymargin'] = 0\n",
    "font = {'family' : 'normal',\n",
    "        'weight' : 'bold',\n",
    "        'size'   : 18}\n",
    "matplotlib.rc('font', **font)\n",
    "\n",
    "counter = 1\n",
    "for armor in [6200, 7700]:\n",
    "    for weapon in ['twinblade', 'torch']:\n",
    "        ratios = []\n",
    "        t = Target(base_armor=armor)\n",
    "        for expertise in expertises:\n",
    "            p = Player(expertise=expertise, ap=3200, weapon=weapon)\n",
    "            c = CombatAnalyser(p, t)\n",
    "            ratios.append((c.get_sob_swing_dmg() + c.get_cs_dmg()) / c.get_twist_dmg())\n",
    "\n",
    "#         fig = plt.figure(figsize = (8, 5))\n",
    "        \n",
    "        subplot = axs[counter_dict[counter][0], counter_dict[counter][1]]\n",
    "        subplot.plot(expertises, ratios)\n",
    "        subplot.set_title(f'{weapon}, boss armor={armor}')\n",
    "        subplot.grid(which='both')\n",
    "        subplot.set(xlabel='Expertise', ylabel='SoB+CS/twist ratio')\n",
    "        subplot.set_xlim(0,26)\n",
    "#         subplot.savefig(f'{weapon}_swingratios_armor{armor}.png', facecolor='white', transparent=False)\n",
    "#         subplot.ylabel('Ratio')\n",
    "#         subplot.xlabel('Expertise')\n",
    "        \n",
    "#         plt.savefig(f'{weapon}_swingratios_armor{armor}.png', facecolor='white', transparent=False)\n",
    "        counter += 1\n",
    "    \n",
    "for ax in axs.flat:\n",
    "    ax.set(xlabel='Expertise', ylabel='SoB+CS/twist ratio')\n",
    "    ax.set_xlim(0,26)\n",
    "\n",
    "fig.suptitle('SoB+CS / twist, as func of expertise', fontsize=22)\n",
    "fig.set_size_inches(12.9, 8.5)\n",
    "fig.savefig('sobcs_vs_twist.png', facecolor='white', transparent=False)"
   ]
  },
  {
   "cell_type": "code",
   "execution_count": 35,
   "id": "d72af40b",
   "metadata": {},
   "outputs": [
    {
     "name": "stdout",
     "output_type": "stream",
     "text": [
      "[1.111946868628015, 1.1105815374797912, 1.1092181695910104, 1.1078567706130482, 1.106497346049962, 1.1051399012606344, 1.1037844414608868, 1.1024309717255634, 1.1010794969905857, 1.099730022054978, 1.0983825515828638, 1.0970370901054343, 1.0956936420228913, 1.094352211606359, 1.0930128029997723, 1.0916754202217358, 1.0903400671673602, 1.0890067476100687, 1.0876754652033818, 1.0863462234826753, 1.085019025866914, 1.0836938756603605, 1.0823707760542627, 1.081049730128513, 1.07973074085329, 1.0784138110906731, 1.0770989435962361]\n",
      "[1.0540304184480251, 1.0526606051280172, 1.0512932408530042, 1.04992832740848, 1.0485658664573638, 1.0472058595420408, 1.045848308086372, 1.0444932133976734, 1.043140576668665, 1.0417903989793889, 1.0404426812991014, 1.039097424488133, 1.037754629299721, 1.036414296381816, 1.035076426278858, 1.0337410194335295, 1.0324080761884764, 1.0310775967880088, 1.0297495813797721, 1.0284240300163947, 1.0271009426571078, 1.0257803191693453, 1.0244621593303156, 1.0231464628285512, 1.021833229265434, 1.0205224581566998, 1.0192141489339166]\n",
      "[1.0050661823167075, 1.0037067826982211, 1.0023501979292495, 1.0009964263592086, 0.9996454662411466, 0.9982973157336231, 0.9969519729025559, 0.9956094357230367, 0.994269702081119, 0.9929327697755738, 0.9915986365196193, 0.99026729994262, 0.9889387575917575, 0.9876130069336772, 0.9862900453561038, 0.9849698701694315, 0.9836524786082902, 0.9823378678330826, 0.981026034931498, 0.979716976920001, 0.9784106907452951, 0.9771071732857621, 0.9758064213528794, 0.9745084316926115, 0.9732132009867801, 0.9719207258544119, 0.9706310028530638]\n"
     ]
    },
    {
     "data": {
      "text/plain": [
       "[<matplotlib.lines.Line2D at 0x7f26dbf80c10>]"
      ]
     },
     "execution_count": 35,
     "metadata": {},
     "output_type": "execute_result"
    },
    {
     "data": {
      "text/plain": [
       "Text(0.5, 1.0, 'SoB+CS to twist dmg ratio, Torch vs final armor = 4790')"
      ]
     },
     "execution_count": 35,
     "metadata": {},
     "output_type": "execute_result"
    },
    {
     "data": {
      "text/plain": [
       "Text(0, 0.5, 'dmg ratio (SoB+CS/twist)')"
      ]
     },
     "execution_count": 35,
     "metadata": {},
     "output_type": "execute_result"
    },
    {
     "data": {
      "text/plain": [
       "Text(0.5, 0, 'Expertise')"
      ]
     },
     "execution_count": 35,
     "metadata": {},
     "output_type": "execute_result"
    },
    {
     "data": {
      "image/png": "[encoded data removed]",
      "text/plain": [
       "<Figure size 576x360 with 1 Axes>"
      ]
     },
     "metadata": {
      "needs_background": "light"
     },
     "output_type": "display_data"
    }
   ],
   "source": [
    "for armor in [6200, 7700, 8800]:\n",
    "        ratios = []\n",
    "        t = Target(base_armor=armor)\n",
    "        t.affected_by_imp_ea = False\n",
    "        for expertise in expertises:\n",
    "            p = Player(expertise=expertise, ap=3200, weapon='torch')   #Weapon(speed=3.8, min_dmg=400, max_dmg=600))\n",
    "            c = CombatAnalyser(p, t)\n",
    "            ratios.append((c.get_sob_swing_dmg() + c.get_cs_dmg()) / c.get_twist_dmg())\n",
    "        print(ratios)\n",
    "        \n",
    "fig = plt.figure(figsize = (8, 5))\n",
    "plt.plot(expertises, ratios)\n",
    "plt.grid()\n",
    "plt.title(f'SoB+CS to twist dmg ratio, Torch vs final armor = {c.final_armor}')\n",
    "plt.ylabel('dmg ratio (SoB+CS/twist)')\n",
    "plt.xlabel('Expertise')\n",
    "plt.tight_layout()\n",
    "fig.savefig('VR_torch_ratios.png', facecolor='white', transparent=False)"
   ]
  },
  {
   "cell_type": "code",
   "execution_count": 36,
   "id": "196f6ed3",
   "metadata": {},
   "outputs": [
    {
     "data": {
      "text/plain": [
       "4790"
      ]
     },
     "execution_count": 36,
     "metadata": {},
     "output_type": "execute_result"
    }
   ],
   "source": [
    "c.final_armor"
   ]
  },
  {
   "cell_type": "code",
   "execution_count": 37,
   "id": "e5792ce7",
   "metadata": {},
   "outputs": [
    {
     "data": {
      "text/plain": [
       "['__annotations__',\n",
       " '__class__',\n",
       " '__delattr__',\n",
       " '__dict__',\n",
       " '__dir__',\n",
       " '__doc__',\n",
       " '__eq__',\n",
       " '__format__',\n",
       " '__ge__',\n",
       " '__getattribute__',\n",
       " '__gt__',\n",
       " '__hash__',\n",
       " '__init__',\n",
       " '__init_subclass__',\n",
       " '__le__',\n",
       " '__lt__',\n",
       " '__module__',\n",
       " '__ne__',\n",
       " '__new__',\n",
       " '__reduce__',\n",
       " '__reduce_ex__',\n",
       " '__repr__',\n",
       " '__setattr__',\n",
       " '__sizeof__',\n",
       " '__str__',\n",
       " '__subclasshook__',\n",
       " '__weakref__',\n",
       " 'affected_by_coe',\n",
       " 'affected_by_crusade',\n",
       " 'affected_by_ff',\n",
       " 'affected_by_imp_ea',\n",
       " 'affected_by_jotc',\n",
       " 'affected_by_sunder_armor',\n",
       " 'base_armor',\n",
       " 'bonus_ap_on_attacks',\n",
       " 'bonus_holy_sp_on_attacks',\n",
       " 'expose_weakness_agi',\n",
       " 'global_dmg_factor',\n",
       " 'modified_armor']"
      ]
     },
     "execution_count": 37,
     "metadata": {},
     "output_type": "execute_result"
    }
   ],
   "source": [
    "dir(t)"
   ]
  },
  {
   "cell_type": "code",
   "execution_count": 41,
   "id": "6f6de0cf",
   "metadata": {},
   "outputs": [
    {
     "name": "stdout",
     "output_type": "stream",
     "text": [
      "{'base_armor': 8800, 'affected_by_crusade': True, 'expose_weakness_agi': 1200, 'affected_by_imp_ea': False}\n"
     ]
    }
   ],
   "source": [
    "print(t.__dict__)"
   ]
  },
  {
   "cell_type": "code",
   "execution_count": 42,
   "id": "b001ae79",
   "metadata": {},
   "outputs": [
    {
     "data": {
      "text/plain": [
       "4790"
      ]
     },
     "execution_count": 42,
     "metadata": {},
     "output_type": "execute_result"
    }
   ],
   "source": [
    "t.modified_armor"
   ]
  }
 ],
 "metadata": {
  "kernelspec": {
   "display_name": "zeal",
   "language": "python",
   "name": "zeal"
  },
  "language_info": {
   "codemirror_mode": {
    "name": "ipython",
    "version": 3
   },
   "file_extension": ".py",
   "mimetype": "text/x-python",
   "name": "python",
   "nbconvert_exporter": "python",
   "pygments_lexer": "ipython3",
   "version": "3.9.7"
  }
 },
 "nbformat": 4,
 "nbformat_minor": 5
}
