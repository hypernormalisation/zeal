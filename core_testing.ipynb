{
 "cells": [
  {
   "cell_type": "code",
   "execution_count": 1,
   "id": "f8bd0914",
   "metadata": {},
   "outputs": [],
   "source": [
    "import zeal"
   ]
  },
  {
   "cell_type": "code",
   "execution_count": 2,
   "id": "957e9055",
   "metadata": {},
   "outputs": [],
   "source": [
    "from zeal.core import Player, Target, CombatAnalyser"
   ]
  },
  {
   "cell_type": "code",
   "execution_count": 3,
   "id": "ad23c245",
   "metadata": {},
   "outputs": [],
   "source": [
    "p = Player(expertise=15, ap=3000, weapon='LHE', arm_pen=0)"
   ]
  },
  {
   "cell_type": "code",
   "execution_count": 4,
   "id": "2e74c57e",
   "metadata": {},
   "outputs": [
    {
     "data": {
      "text/plain": [
       "15"
      ]
     },
     "execution_count": 4,
     "metadata": {},
     "output_type": "execute_result"
    },
    {
     "data": {
      "text/plain": [
       "0.0275"
      ]
     },
     "execution_count": 4,
     "metadata": {},
     "output_type": "execute_result"
    },
    {
     "data": {
      "text/plain": [
       "0.42"
      ]
     },
     "execution_count": 4,
     "metadata": {},
     "output_type": "execute_result"
    }
   ],
   "source": [
    "p.expertise\n",
    "p.dodge_chance\n",
    "p.soc_proc_chance"
   ]
  },
  {
   "cell_type": "code",
   "execution_count": 5,
   "id": "48fffcb7",
   "metadata": {},
   "outputs": [
    {
     "data": {
      "text/plain": [
       "1715"
      ]
     },
     "execution_count": 5,
     "metadata": {},
     "output_type": "execute_result"
    }
   ],
   "source": [
    "t = Target()\n",
    "t.modified_armor\n"
   ]
  },
  {
   "cell_type": "code",
   "execution_count": 6,
   "id": "a27135d5",
   "metadata": {},
   "outputs": [
    {
     "data": {
      "text/plain": [
       "1715"
      ]
     },
     "execution_count": 6,
     "metadata": {},
     "output_type": "execute_result"
    },
    {
     "data": {
      "text/plain": [
       "3300.0"
      ]
     },
     "execution_count": 6,
     "metadata": {},
     "output_type": "execute_result"
    },
    {
     "data": {
      "text/plain": [
       "0.8565217391304347"
      ]
     },
     "execution_count": 6,
     "metadata": {},
     "output_type": "execute_result"
    },
    {
     "data": {
      "text/plain": [
       "1.1136360000000003"
      ]
     },
     "execution_count": 6,
     "metadata": {},
     "output_type": "execute_result"
    }
   ],
   "source": [
    "c = CombatAnalyser(p, t)\n",
    "c.final_armor\n",
    "c.final_ap\n",
    "c.phys_dmg_scale_factor\n",
    "c.global_dmg_factor"
   ]
  },
  {
   "cell_type": "code",
   "execution_count": 7,
   "id": "9d89ca0f",
   "metadata": {},
   "outputs": [
    {
     "data": {
      "text/plain": [
       "1.2325964010282777"
      ]
     },
     "execution_count": 7,
     "metadata": {},
     "output_type": "execute_result"
    },
    {
     "data": {
      "text/plain": [
       "1.1007933034248825"
      ]
     },
     "execution_count": 7,
     "metadata": {},
     "output_type": "execute_result"
    },
    {
     "data": {
      "text/plain": [
       "3090.8116207545554"
      ]
     },
     "execution_count": 7,
     "metadata": {},
     "output_type": "execute_result"
    }
   ],
   "source": [
    "c.autoattack_outcomes_factor\n",
    "c.wf_factor\n",
    "c.get_naked_wf_swing_dmg()"
   ]
  }
 ],
 "metadata": {
  "kernelspec": {
   "display_name": "zeal",
   "language": "python",
   "name": "zeal"
  },
  "language_info": {
   "codemirror_mode": {
    "name": "ipython",
    "version": 3
   },
   "file_extension": ".py",
   "mimetype": "text/x-python",
   "name": "python",
   "nbconvert_exporter": "python",
   "pygments_lexer": "ipython3",
   "version": "3.9.7"
  }
 },
 "nbformat": 4,
 "nbformat_minor": 5
}
