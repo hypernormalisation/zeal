{
 "cells": [
  {
   "cell_type": "markdown",
   "id": "deda6c4b",
   "metadata": {},
   "source": [
    "## Combat Analyser\n",
    "\n",
    "The CombatAnalyser is a tool to take a player and a target object, and to combine them to produce damage projections for a series of actions.\n",
    "\n",
    "Whereas the sim uses the combat system's rules to generate simulation data of encounters, Zeal's core library instead projects average damages of each possible action.\n",
    "\n",
    "This allows for rough appraisals of how ability damages change based on the player and target's stats (although there are still probably a few kinks to work out with regards to global damage factors in the calculations.\n",
    "\n",
    "It should also allow for very robust evaluations of *relative* damage between actions, e.g. a SoB swing and a twist attempt.\n",
    "\n",
    "I eventually want to feed these into a rotation generator algorithm that can use these numbers to arrive at things like optimal CS delay, by evaluating opportunity costs of the various actions."
   ]
  },
  {
   "cell_type": "code",
   "execution_count": 1,
   "id": "9687d678",
   "metadata": {},
   "outputs": [
    {
     "name": "stdout",
     "output_type": "stream",
     "text": [
      "Player properties:\n",
      "--                   AP = 3400\n",
      "--          crit chance = 0.35\n",
      "--               weapon = torch\n",
      "--              arm pen = 0\n",
      "--            expertise = 21\n",
      "--  chance to be dodged = 0.0125\n",
      "\n",
      "Target properties:\n",
      "--        base armor = 6200\n",
      "--    modified armor = 1715\n",
      "--             JotCr = True\n",
      "--   expose weakness = 1200 agi\n"
     ]
    }
   ],
   "source": [
    "import zeal.core as zc\n",
    "\n",
    "## The library is all object oriented, with simple properties and methods.\n",
    "## First we generate a player and target object.\n",
    "p = zc.Player(weapon='torch', expertise=21)\n",
    "t = zc.Target()\n",
    "\n",
    "## Let's see their properties.\n",
    "p.print_properties()\n",
    "print()\n",
    "t.print_properties()"
   ]
  },
  {
   "cell_type": "markdown",
   "id": "e8f357da",
   "metadata": {},
   "source": [
    "Let's now feed the player and target objects into the CombatAnalyser, a class designed to combine info on the two for calcs.\n",
    "\n",
    "e.g. it figures out the total AP used in attacks from the player's AP, and the target's expose weakness.\n",
    "\n",
    "It can then very quickly and efficiently rank the actions using quite basic calculations."
   ]
  },
  {
   "cell_type": "code",
   "execution_count": 2,
   "id": "fcad6d52",
   "metadata": {},
   "outputs": [
    {
     "data": {
      "text/plain": [
       "{'naked_swing': 0.6997633750474526,\n",
       " 'sob_swing': 1.0,\n",
       " 'soc_swing': 0.9568028283550427,\n",
       " 'twist': 1.4259911679139037,\n",
       " 'cs': 0.5678068038788655}"
      ]
     },
     "execution_count": 2,
     "metadata": {},
     "output_type": "execute_result"
    }
   ],
   "source": [
    "c = zc.CombatAnalyser(p, t)\n",
    "c.rank_actions()"
   ]
  },
  {
   "cell_type": "markdown",
   "id": "7f4ccdb1",
   "metadata": {},
   "source": [
    "### High armor situation\n",
    "\n",
    "Let's change our target to represent a Void Reaver fight, where we no longer benefit from Improved Expose Armor (but still benefit from 5-stack sunder armor).\n",
    "\n",
    "How do the relative outputs change?"
   ]
  },
  {
   "cell_type": "code",
   "execution_count": 3,
   "id": "3f777fb8",
   "metadata": {},
   "outputs": [
    {
     "name": "stdout",
     "output_type": "stream",
     "text": [
      "Target properties:\n",
      "--        base armor = 8800\n",
      "--    modified armor = 4790\n",
      "--             JotCr = True\n",
      "--   expose weakness = 1200 agi\n"
     ]
    },
    {
     "data": {
      "text/plain": [
       "{'naked_swing': 0.6199286364912309,\n",
       " 'sob_swing': 1.0,\n",
       " 'soc_swing': 0.945316438561031,\n",
       " 'twist': 1.5392648017453558,\n",
       " 'cs': 0.5030267520005587}"
      ]
     },
     "execution_count": 3,
     "metadata": {},
     "output_type": "execute_result"
    }
   ],
   "source": [
    "p2 = zc.Player(weapon='torch', expertise=21)  # same player properties\n",
    "t2 = zc.Target(base_armor=8800, imp_ea=False)\n",
    "t2.print_properties()\n",
    "c2 = zc.CombatAnalyser(p2, t2)\n",
    "c2.rank_actions()"
   ]
  },
  {
   "cell_type": "markdown",
   "id": "06144da0",
   "metadata": {},
   "source": [
    "### Expertise example\n",
    "\n",
    "Let's also change the player's expertise and rerun the analysis.\n",
    "\n",
    "As we can see, twists fall in relative value. This is because many of their damage components must survive 2-4 dodge rolls, which are more likely to fail with lower Expertise.\n",
    "\n",
    "Having this kind of data quickly and readily available can be handy in theorycrafting or developing gearsets."
   ]
  },
  {
   "cell_type": "code",
   "execution_count": 4,
   "id": "3f6dffb0",
   "metadata": {},
   "outputs": [
    {
     "data": {
      "text/plain": [
       "{'naked_swing': 0.6978409298355416,\n",
       " 'sob_swing': 1.0,\n",
       " 'soc_swing': 0.956396969584237,\n",
       " 'twist': 1.4298760038215372,\n",
       " 'cs': 0.5664256618130245}"
      ]
     },
     "execution_count": 4,
     "metadata": {},
     "output_type": "execute_result"
    },
    {
     "data": {
      "text/plain": [
       "{'naked_swing': 0.7101824927676451,\n",
       " 'sob_swing': 1.0,\n",
       " 'soc_swing': 0.9589684257828687,\n",
       " 'twist': 1.405292743743049,\n",
       " 'cs': 0.5750829619836664}"
      ]
     },
     "execution_count": 4,
     "metadata": {},
     "output_type": "execute_result"
    }
   ],
   "source": [
    "p.expertise = 24\n",
    "c.rank_actions() \n",
    "p.expertise = 5\n",
    "c.rank_actions()"
   ]
  },
  {
   "cell_type": "markdown",
   "id": "80049e4c",
   "metadata": {},
   "source": [
    "# What next?\n",
    "\n",
    "With this kind of data, it might be possible to dynamically generate rotations based on some kind of sensible algorithm, that can analytically arrive at things like the optimum CS delay, filler usage etc.\n",
    "\n",
    "Given the relative worths of actions change depending on the fight conditions, it would be interesting to see if there are any situations where rotations change priority dynamically.\n",
    "\n",
    "Indeed, we've already found one! Let's look at that projected VR fight again."
   ]
  },
  {
   "cell_type": "code",
   "execution_count": 5,
   "id": "509ec272",
   "metadata": {},
   "outputs": [
    {
     "data": {
      "text/plain": [
       "{'naked_swing': 0.6199286364912309,\n",
       " 'sob_swing': 1.0,\n",
       " 'soc_swing': 0.945316438561031,\n",
       " 'twist': 1.5392648017453558,\n",
       " 'cs': 0.5030267520005587}"
      ]
     },
     "execution_count": 5,
     "metadata": {},
     "output_type": "execute_result"
    },
    {
     "name": "stdout",
     "output_type": "stream",
     "text": [
      "Damage from a SoB swing + CS = 1.5030267520005587\n",
      "Damage from a twist          = 1.5392648017453558\n",
      "Relative benefit of 1/1 over 1/2 = 1.011911432255787\n"
     ]
    }
   ],
   "source": [
    "c2.rank_actions()\n",
    "d = c2.rank_actions()\n",
    "a = d['sob_swing'] + d['cs']\n",
    "b = d['twist']\n",
    "print(f'Damage from a SoB swing + CS = {a}')\n",
    "print(f'Damage from a twist          = {b}')\n",
    "\n",
    "# 1/2 is a twist then CS/SoB, 1/1 is 2 twists in the same time\n",
    "ratio = 2*b / (a + b)\n",
    "\n",
    "print(f'Relative benefit of 1/1 over 1/2 = {ratio}')"
   ]
  },
  {
   "cell_type": "markdown",
   "id": "75d7a414",
   "metadata": {},
   "source": [
    "So in this (very simplified scenario, neglecting fillers etc.), 1/1 is about 1.2% better than the standard 1/2 rotation under these fight conditions.\n",
    "\n",
    "Not the most earth-shattering revalation, a 1.2% difference on an older tier (that is probably obviated by filler usage etc.)...\n",
    "\n",
    "But we can perhaps get the picture that having this information could be useful in theorycrafting."
   ]
  }
 ],
 "metadata": {
  "kernelspec": {
   "display_name": "zeal",
   "language": "python",
   "name": "zeal"
  },
  "language_info": {
   "codemirror_mode": {
    "name": "ipython",
    "version": 3
   },
   "file_extension": ".py",
   "mimetype": "text/x-python",
   "name": "python",
   "nbconvert_exporter": "python",
   "pygments_lexer": "ipython3",
   "version": "3.9.7"
  }
 },
 "nbformat": 4,
 "nbformat_minor": 5
}
